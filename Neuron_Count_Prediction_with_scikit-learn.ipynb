{
  "nbformat": 4,
  "nbformat_minor": 0,
  "metadata": {
    "colab": {
      "provenance": []
    },
    "kernelspec": {
      "name": "python3",
      "display_name": "Python 3"
    },
    "language_info": {
      "name": "python"
    }
  },
  "cells": [
    {
      "cell_type": "code",
      "execution_count": null,
      "metadata": {
        "id": "LxubCxkw--3m"
      },
      "outputs": [],
      "source": [
        "import pandas as pd\n",
        "import numpy as np\n",
        "from sklearn.ensemble import RandomForestRegressor\n",
        "from sklearn.model_selection import train_test_split\n",
        "from sklearn.metrics import mean_squared_error\n",
        "from sklearn.metrics import r2_score"
      ]
    },
    {
      "cell_type": "code",
      "source": [
        "Br = pd.read_csv(\"Brain Data.csv\")\n",
        "Br.head(8)"
      ],
      "metadata": {
        "colab": {
          "base_uri": "https://localhost:8080/",
          "height": 300
        },
        "id": "loknqlLx_K5A",
        "outputId": "d89c341e-1894-4efd-919e-e1cf16caf482"
      },
      "execution_count": null,
      "outputs": [
        {
          "output_type": "execute_result",
          "data": {
            "text/plain": [
              "                      Animal  Forebr m   Cer m  rest m   Forebr n       Cer n  \\\n",
              "0                        NaN       NaN     NaN     NaN        NaN         NaN   \n",
              "1  African sheath-tailed bat    0.0899  0.0540   0.098  5,080,000  47,984,000   \n",
              "2     Little free-tailed bat    0.0840  0.0360   0.084  5,632,000  25,324,000   \n",
              "3         Rufous trident bat    0.0930  0.0720   0.084  6,039,000  59,651,000   \n",
              "4       Common bent-wing bat    0.0858  0.0485   0.086  6,116,000  44,447,000   \n",
              "5             Naked mole-rat    0.1840  0.0480   0.160  6,150,000  15,740,000   \n",
              "6  Commerson's roundleaf bat    0.2430  0.1070   0.237  7,877,000  51,875,000   \n",
              "7                Smoky shrew    0.0840  0.0200   0.072  9,730,000  20,870,000   \n",
              "\n",
              "      Rest n  Body m  \n",
              "0        NaN     NaN  \n",
              "1  5,514,000    11.5  \n",
              "2  4,001,000     5.4  \n",
              "3  4,072,000    13.7  \n",
              "4  5,094,000    11.6  \n",
              "5  4,980,000    35.3  \n",
              "6  6,965,000   101.9  \n",
              "7  5,560,000     7.5  "
            ],
            "text/html": [
              "\n",
              "  <div id=\"df-c0feae5a-6902-4a3f-989b-83c3aa725013\">\n",
              "    <div class=\"colab-df-container\">\n",
              "      <div>\n",
              "<style scoped>\n",
              "    .dataframe tbody tr th:only-of-type {\n",
              "        vertical-align: middle;\n",
              "    }\n",
              "\n",
              "    .dataframe tbody tr th {\n",
              "        vertical-align: top;\n",
              "    }\n",
              "\n",
              "    .dataframe thead th {\n",
              "        text-align: right;\n",
              "    }\n",
              "</style>\n",
              "<table border=\"1\" class=\"dataframe\">\n",
              "  <thead>\n",
              "    <tr style=\"text-align: right;\">\n",
              "      <th></th>\n",
              "      <th>Animal</th>\n",
              "      <th>Forebr m</th>\n",
              "      <th>Cer m</th>\n",
              "      <th>rest m</th>\n",
              "      <th>Forebr n</th>\n",
              "      <th>Cer n</th>\n",
              "      <th>Rest n</th>\n",
              "      <th>Body m</th>\n",
              "    </tr>\n",
              "  </thead>\n",
              "  <tbody>\n",
              "    <tr>\n",
              "      <th>0</th>\n",
              "      <td>NaN</td>\n",
              "      <td>NaN</td>\n",
              "      <td>NaN</td>\n",
              "      <td>NaN</td>\n",
              "      <td>NaN</td>\n",
              "      <td>NaN</td>\n",
              "      <td>NaN</td>\n",
              "      <td>NaN</td>\n",
              "    </tr>\n",
              "    <tr>\n",
              "      <th>1</th>\n",
              "      <td>African sheath-tailed bat</td>\n",
              "      <td>0.0899</td>\n",
              "      <td>0.0540</td>\n",
              "      <td>0.098</td>\n",
              "      <td>5,080,000</td>\n",
              "      <td>47,984,000</td>\n",
              "      <td>5,514,000</td>\n",
              "      <td>11.5</td>\n",
              "    </tr>\n",
              "    <tr>\n",
              "      <th>2</th>\n",
              "      <td>Little free-tailed bat</td>\n",
              "      <td>0.0840</td>\n",
              "      <td>0.0360</td>\n",
              "      <td>0.084</td>\n",
              "      <td>5,632,000</td>\n",
              "      <td>25,324,000</td>\n",
              "      <td>4,001,000</td>\n",
              "      <td>5.4</td>\n",
              "    </tr>\n",
              "    <tr>\n",
              "      <th>3</th>\n",
              "      <td>Rufous trident bat</td>\n",
              "      <td>0.0930</td>\n",
              "      <td>0.0720</td>\n",
              "      <td>0.084</td>\n",
              "      <td>6,039,000</td>\n",
              "      <td>59,651,000</td>\n",
              "      <td>4,072,000</td>\n",
              "      <td>13.7</td>\n",
              "    </tr>\n",
              "    <tr>\n",
              "      <th>4</th>\n",
              "      <td>Common bent-wing bat</td>\n",
              "      <td>0.0858</td>\n",
              "      <td>0.0485</td>\n",
              "      <td>0.086</td>\n",
              "      <td>6,116,000</td>\n",
              "      <td>44,447,000</td>\n",
              "      <td>5,094,000</td>\n",
              "      <td>11.6</td>\n",
              "    </tr>\n",
              "    <tr>\n",
              "      <th>5</th>\n",
              "      <td>Naked mole-rat</td>\n",
              "      <td>0.1840</td>\n",
              "      <td>0.0480</td>\n",
              "      <td>0.160</td>\n",
              "      <td>6,150,000</td>\n",
              "      <td>15,740,000</td>\n",
              "      <td>4,980,000</td>\n",
              "      <td>35.3</td>\n",
              "    </tr>\n",
              "    <tr>\n",
              "      <th>6</th>\n",
              "      <td>Commerson's roundleaf bat</td>\n",
              "      <td>0.2430</td>\n",
              "      <td>0.1070</td>\n",
              "      <td>0.237</td>\n",
              "      <td>7,877,000</td>\n",
              "      <td>51,875,000</td>\n",
              "      <td>6,965,000</td>\n",
              "      <td>101.9</td>\n",
              "    </tr>\n",
              "    <tr>\n",
              "      <th>7</th>\n",
              "      <td>Smoky shrew</td>\n",
              "      <td>0.0840</td>\n",
              "      <td>0.0200</td>\n",
              "      <td>0.072</td>\n",
              "      <td>9,730,000</td>\n",
              "      <td>20,870,000</td>\n",
              "      <td>5,560,000</td>\n",
              "      <td>7.5</td>\n",
              "    </tr>\n",
              "  </tbody>\n",
              "</table>\n",
              "</div>\n",
              "      <button class=\"colab-df-convert\" onclick=\"convertToInteractive('df-c0feae5a-6902-4a3f-989b-83c3aa725013')\"\n",
              "              title=\"Convert this dataframe to an interactive table.\"\n",
              "              style=\"display:none;\">\n",
              "        \n",
              "  <svg xmlns=\"http://www.w3.org/2000/svg\" height=\"24px\"viewBox=\"0 0 24 24\"\n",
              "       width=\"24px\">\n",
              "    <path d=\"M0 0h24v24H0V0z\" fill=\"none\"/>\n",
              "    <path d=\"M18.56 5.44l.94 2.06.94-2.06 2.06-.94-2.06-.94-.94-2.06-.94 2.06-2.06.94zm-11 1L8.5 8.5l.94-2.06 2.06-.94-2.06-.94L8.5 2.5l-.94 2.06-2.06.94zm10 10l.94 2.06.94-2.06 2.06-.94-2.06-.94-.94-2.06-.94 2.06-2.06.94z\"/><path d=\"M17.41 7.96l-1.37-1.37c-.4-.4-.92-.59-1.43-.59-.52 0-1.04.2-1.43.59L10.3 9.45l-7.72 7.72c-.78.78-.78 2.05 0 2.83L4 21.41c.39.39.9.59 1.41.59.51 0 1.02-.2 1.41-.59l7.78-7.78 2.81-2.81c.8-.78.8-2.07 0-2.86zM5.41 20L4 18.59l7.72-7.72 1.47 1.35L5.41 20z\"/>\n",
              "  </svg>\n",
              "      </button>\n",
              "      \n",
              "  <style>\n",
              "    .colab-df-container {\n",
              "      display:flex;\n",
              "      flex-wrap:wrap;\n",
              "      gap: 12px;\n",
              "    }\n",
              "\n",
              "    .colab-df-convert {\n",
              "      background-color: #E8F0FE;\n",
              "      border: none;\n",
              "      border-radius: 50%;\n",
              "      cursor: pointer;\n",
              "      display: none;\n",
              "      fill: #1967D2;\n",
              "      height: 32px;\n",
              "      padding: 0 0 0 0;\n",
              "      width: 32px;\n",
              "    }\n",
              "\n",
              "    .colab-df-convert:hover {\n",
              "      background-color: #E2EBFA;\n",
              "      box-shadow: 0px 1px 2px rgba(60, 64, 67, 0.3), 0px 1px 3px 1px rgba(60, 64, 67, 0.15);\n",
              "      fill: #174EA6;\n",
              "    }\n",
              "\n",
              "    [theme=dark] .colab-df-convert {\n",
              "      background-color: #3B4455;\n",
              "      fill: #D2E3FC;\n",
              "    }\n",
              "\n",
              "    [theme=dark] .colab-df-convert:hover {\n",
              "      background-color: #434B5C;\n",
              "      box-shadow: 0px 1px 3px 1px rgba(0, 0, 0, 0.15);\n",
              "      filter: drop-shadow(0px 1px 2px rgba(0, 0, 0, 0.3));\n",
              "      fill: #FFFFFF;\n",
              "    }\n",
              "  </style>\n",
              "\n",
              "      <script>\n",
              "        const buttonEl =\n",
              "          document.querySelector('#df-c0feae5a-6902-4a3f-989b-83c3aa725013 button.colab-df-convert');\n",
              "        buttonEl.style.display =\n",
              "          google.colab.kernel.accessAllowed ? 'block' : 'none';\n",
              "\n",
              "        async function convertToInteractive(key) {\n",
              "          const element = document.querySelector('#df-c0feae5a-6902-4a3f-989b-83c3aa725013');\n",
              "          const dataTable =\n",
              "            await google.colab.kernel.invokeFunction('convertToInteractive',\n",
              "                                                     [key], {});\n",
              "          if (!dataTable) return;\n",
              "\n",
              "          const docLinkHtml = 'Like what you see? Visit the ' +\n",
              "            '<a target=\"_blank\" href=https://colab.research.google.com/notebooks/data_table.ipynb>data table notebook</a>'\n",
              "            + ' to learn more about interactive tables.';\n",
              "          element.innerHTML = '';\n",
              "          dataTable['output_type'] = 'display_data';\n",
              "          await google.colab.output.renderOutput(dataTable, element);\n",
              "          const docLink = document.createElement('div');\n",
              "          docLink.innerHTML = docLinkHtml;\n",
              "          element.appendChild(docLink);\n",
              "        }\n",
              "      </script>\n",
              "    </div>\n",
              "  </div>\n",
              "  "
            ]
          },
          "metadata": {},
          "execution_count": 2
        }
      ]
    },
    {
      "cell_type": "code",
      "source": [
        "Br = Br.dropna()"
      ],
      "metadata": {
        "id": "VK50mcGj_qZr"
      },
      "execution_count": null,
      "outputs": []
    },
    {
      "cell_type": "code",
      "source": [
        "Br.dtypes"
      ],
      "metadata": {
        "colab": {
          "base_uri": "https://localhost:8080/"
        },
        "id": "1nrdfACEAYme",
        "outputId": "ccdd00ca-0472-4d82-bba9-062dca915e4f"
      },
      "execution_count": null,
      "outputs": [
        {
          "output_type": "execute_result",
          "data": {
            "text/plain": [
              "Animal       object\n",
              "Forebr m    float64\n",
              "Cer m       float64\n",
              "rest m      float64\n",
              "Forebr n     object\n",
              "Cer n        object\n",
              "Rest n       object\n",
              "Body m      float64\n",
              "dtype: object"
            ]
          },
          "metadata": {},
          "execution_count": 4
        }
      ]
    },
    {
      "cell_type": "code",
      "source": [
        "Br.head(7)"
      ],
      "metadata": {
        "colab": {
          "base_uri": "https://localhost:8080/",
          "height": 269
        },
        "id": "pwy6n5t0BRDF",
        "outputId": "37200e03-8df7-4924-f167-4dd49f893d7c"
      },
      "execution_count": null,
      "outputs": [
        {
          "output_type": "execute_result",
          "data": {
            "text/plain": [
              "                      Animal  Forebr m   Cer m  rest m   Forebr n       Cer n  \\\n",
              "1  African sheath-tailed bat    0.0899  0.0540   0.098  5,080,000  47,984,000   \n",
              "2     Little free-tailed bat    0.0840  0.0360   0.084  5,632,000  25,324,000   \n",
              "3         Rufous trident bat    0.0930  0.0720   0.084  6,039,000  59,651,000   \n",
              "4       Common bent-wing bat    0.0858  0.0485   0.086  6,116,000  44,447,000   \n",
              "5             Naked mole-rat    0.1840  0.0480   0.160  6,150,000  15,740,000   \n",
              "6  Commerson's roundleaf bat    0.2430  0.1070   0.237  7,877,000  51,875,000   \n",
              "7                Smoky shrew    0.0840  0.0200   0.072  9,730,000  20,870,000   \n",
              "\n",
              "      Rest n  Body m  \n",
              "1  5,514,000    11.5  \n",
              "2  4,001,000     5.4  \n",
              "3  4,072,000    13.7  \n",
              "4  5,094,000    11.6  \n",
              "5  4,980,000    35.3  \n",
              "6  6,965,000   101.9  \n",
              "7  5,560,000     7.5  "
            ],
            "text/html": [
              "\n",
              "  <div id=\"df-e4a4aa68-541e-4039-898e-6ce1985704bc\">\n",
              "    <div class=\"colab-df-container\">\n",
              "      <div>\n",
              "<style scoped>\n",
              "    .dataframe tbody tr th:only-of-type {\n",
              "        vertical-align: middle;\n",
              "    }\n",
              "\n",
              "    .dataframe tbody tr th {\n",
              "        vertical-align: top;\n",
              "    }\n",
              "\n",
              "    .dataframe thead th {\n",
              "        text-align: right;\n",
              "    }\n",
              "</style>\n",
              "<table border=\"1\" class=\"dataframe\">\n",
              "  <thead>\n",
              "    <tr style=\"text-align: right;\">\n",
              "      <th></th>\n",
              "      <th>Animal</th>\n",
              "      <th>Forebr m</th>\n",
              "      <th>Cer m</th>\n",
              "      <th>rest m</th>\n",
              "      <th>Forebr n</th>\n",
              "      <th>Cer n</th>\n",
              "      <th>Rest n</th>\n",
              "      <th>Body m</th>\n",
              "    </tr>\n",
              "  </thead>\n",
              "  <tbody>\n",
              "    <tr>\n",
              "      <th>1</th>\n",
              "      <td>African sheath-tailed bat</td>\n",
              "      <td>0.0899</td>\n",
              "      <td>0.0540</td>\n",
              "      <td>0.098</td>\n",
              "      <td>5,080,000</td>\n",
              "      <td>47,984,000</td>\n",
              "      <td>5,514,000</td>\n",
              "      <td>11.5</td>\n",
              "    </tr>\n",
              "    <tr>\n",
              "      <th>2</th>\n",
              "      <td>Little free-tailed bat</td>\n",
              "      <td>0.0840</td>\n",
              "      <td>0.0360</td>\n",
              "      <td>0.084</td>\n",
              "      <td>5,632,000</td>\n",
              "      <td>25,324,000</td>\n",
              "      <td>4,001,000</td>\n",
              "      <td>5.4</td>\n",
              "    </tr>\n",
              "    <tr>\n",
              "      <th>3</th>\n",
              "      <td>Rufous trident bat</td>\n",
              "      <td>0.0930</td>\n",
              "      <td>0.0720</td>\n",
              "      <td>0.084</td>\n",
              "      <td>6,039,000</td>\n",
              "      <td>59,651,000</td>\n",
              "      <td>4,072,000</td>\n",
              "      <td>13.7</td>\n",
              "    </tr>\n",
              "    <tr>\n",
              "      <th>4</th>\n",
              "      <td>Common bent-wing bat</td>\n",
              "      <td>0.0858</td>\n",
              "      <td>0.0485</td>\n",
              "      <td>0.086</td>\n",
              "      <td>6,116,000</td>\n",
              "      <td>44,447,000</td>\n",
              "      <td>5,094,000</td>\n",
              "      <td>11.6</td>\n",
              "    </tr>\n",
              "    <tr>\n",
              "      <th>5</th>\n",
              "      <td>Naked mole-rat</td>\n",
              "      <td>0.1840</td>\n",
              "      <td>0.0480</td>\n",
              "      <td>0.160</td>\n",
              "      <td>6,150,000</td>\n",
              "      <td>15,740,000</td>\n",
              "      <td>4,980,000</td>\n",
              "      <td>35.3</td>\n",
              "    </tr>\n",
              "    <tr>\n",
              "      <th>6</th>\n",
              "      <td>Commerson's roundleaf bat</td>\n",
              "      <td>0.2430</td>\n",
              "      <td>0.1070</td>\n",
              "      <td>0.237</td>\n",
              "      <td>7,877,000</td>\n",
              "      <td>51,875,000</td>\n",
              "      <td>6,965,000</td>\n",
              "      <td>101.9</td>\n",
              "    </tr>\n",
              "    <tr>\n",
              "      <th>7</th>\n",
              "      <td>Smoky shrew</td>\n",
              "      <td>0.0840</td>\n",
              "      <td>0.0200</td>\n",
              "      <td>0.072</td>\n",
              "      <td>9,730,000</td>\n",
              "      <td>20,870,000</td>\n",
              "      <td>5,560,000</td>\n",
              "      <td>7.5</td>\n",
              "    </tr>\n",
              "  </tbody>\n",
              "</table>\n",
              "</div>\n",
              "      <button class=\"colab-df-convert\" onclick=\"convertToInteractive('df-e4a4aa68-541e-4039-898e-6ce1985704bc')\"\n",
              "              title=\"Convert this dataframe to an interactive table.\"\n",
              "              style=\"display:none;\">\n",
              "        \n",
              "  <svg xmlns=\"http://www.w3.org/2000/svg\" height=\"24px\"viewBox=\"0 0 24 24\"\n",
              "       width=\"24px\">\n",
              "    <path d=\"M0 0h24v24H0V0z\" fill=\"none\"/>\n",
              "    <path d=\"M18.56 5.44l.94 2.06.94-2.06 2.06-.94-2.06-.94-.94-2.06-.94 2.06-2.06.94zm-11 1L8.5 8.5l.94-2.06 2.06-.94-2.06-.94L8.5 2.5l-.94 2.06-2.06.94zm10 10l.94 2.06.94-2.06 2.06-.94-2.06-.94-.94-2.06-.94 2.06-2.06.94z\"/><path d=\"M17.41 7.96l-1.37-1.37c-.4-.4-.92-.59-1.43-.59-.52 0-1.04.2-1.43.59L10.3 9.45l-7.72 7.72c-.78.78-.78 2.05 0 2.83L4 21.41c.39.39.9.59 1.41.59.51 0 1.02-.2 1.41-.59l7.78-7.78 2.81-2.81c.8-.78.8-2.07 0-2.86zM5.41 20L4 18.59l7.72-7.72 1.47 1.35L5.41 20z\"/>\n",
              "  </svg>\n",
              "      </button>\n",
              "      \n",
              "  <style>\n",
              "    .colab-df-container {\n",
              "      display:flex;\n",
              "      flex-wrap:wrap;\n",
              "      gap: 12px;\n",
              "    }\n",
              "\n",
              "    .colab-df-convert {\n",
              "      background-color: #E8F0FE;\n",
              "      border: none;\n",
              "      border-radius: 50%;\n",
              "      cursor: pointer;\n",
              "      display: none;\n",
              "      fill: #1967D2;\n",
              "      height: 32px;\n",
              "      padding: 0 0 0 0;\n",
              "      width: 32px;\n",
              "    }\n",
              "\n",
              "    .colab-df-convert:hover {\n",
              "      background-color: #E2EBFA;\n",
              "      box-shadow: 0px 1px 2px rgba(60, 64, 67, 0.3), 0px 1px 3px 1px rgba(60, 64, 67, 0.15);\n",
              "      fill: #174EA6;\n",
              "    }\n",
              "\n",
              "    [theme=dark] .colab-df-convert {\n",
              "      background-color: #3B4455;\n",
              "      fill: #D2E3FC;\n",
              "    }\n",
              "\n",
              "    [theme=dark] .colab-df-convert:hover {\n",
              "      background-color: #434B5C;\n",
              "      box-shadow: 0px 1px 3px 1px rgba(0, 0, 0, 0.15);\n",
              "      filter: drop-shadow(0px 1px 2px rgba(0, 0, 0, 0.3));\n",
              "      fill: #FFFFFF;\n",
              "    }\n",
              "  </style>\n",
              "\n",
              "      <script>\n",
              "        const buttonEl =\n",
              "          document.querySelector('#df-e4a4aa68-541e-4039-898e-6ce1985704bc button.colab-df-convert');\n",
              "        buttonEl.style.display =\n",
              "          google.colab.kernel.accessAllowed ? 'block' : 'none';\n",
              "\n",
              "        async function convertToInteractive(key) {\n",
              "          const element = document.querySelector('#df-e4a4aa68-541e-4039-898e-6ce1985704bc');\n",
              "          const dataTable =\n",
              "            await google.colab.kernel.invokeFunction('convertToInteractive',\n",
              "                                                     [key], {});\n",
              "          if (!dataTable) return;\n",
              "\n",
              "          const docLinkHtml = 'Like what you see? Visit the ' +\n",
              "            '<a target=\"_blank\" href=https://colab.research.google.com/notebooks/data_table.ipynb>data table notebook</a>'\n",
              "            + ' to learn more about interactive tables.';\n",
              "          element.innerHTML = '';\n",
              "          dataTable['output_type'] = 'display_data';\n",
              "          await google.colab.output.renderOutput(dataTable, element);\n",
              "          const docLink = document.createElement('div');\n",
              "          docLink.innerHTML = docLinkHtml;\n",
              "          element.appendChild(docLink);\n",
              "        }\n",
              "      </script>\n",
              "    </div>\n",
              "  </div>\n",
              "  "
            ]
          },
          "metadata": {},
          "execution_count": 5
        }
      ]
    },
    {
      "cell_type": "code",
      "source": [
        "Br['Forebr n'].dtype"
      ],
      "metadata": {
        "colab": {
          "base_uri": "https://localhost:8080/"
        },
        "id": "xpD54j8cOpS-",
        "outputId": "637719d9-edd6-4385-e776-328f99dae8bf"
      },
      "execution_count": null,
      "outputs": [
        {
          "output_type": "execute_result",
          "data": {
            "text/plain": [
              "dtype('O')"
            ]
          },
          "metadata": {},
          "execution_count": 6
        }
      ]
    },
    {
      "cell_type": "code",
      "source": [
        "Br['Cer m'].dtype"
      ],
      "metadata": {
        "colab": {
          "base_uri": "https://localhost:8080/"
        },
        "id": "zMUZe9_1Pe3o",
        "outputId": "d4549671-ded6-463d-9a91-5f79ff7738da"
      },
      "execution_count": null,
      "outputs": [
        {
          "output_type": "execute_result",
          "data": {
            "text/plain": [
              "dtype('float64')"
            ]
          },
          "metadata": {},
          "execution_count": 7
        }
      ]
    },
    {
      "cell_type": "code",
      "source": [
        "if Br['Forebr n'].dtype != 'float64': \n",
        "     Br['Forebr n'] = Br['Forebr n'].str.replace(',', '').astype(float)\n",
        "if Br['Cer n'].dtype != 'float64':\n",
        "     Br['Cer n'] = Br['Cer n'].str.replace(',', '').astype(float)\n",
        "if Br['Rest n'].dtype != 'float64':\n",
        "     Br['Rest n'] = Br['Rest n'].str.replace(',', '').astype(float)"
      ],
      "metadata": {
        "id": "5mnzSX4vIHl_"
      },
      "execution_count": null,
      "outputs": []
    },
    {
      "cell_type": "code",
      "source": [
        "Br.dtypes"
      ],
      "metadata": {
        "colab": {
          "base_uri": "https://localhost:8080/"
        },
        "id": "99SoTaFxIbV1",
        "outputId": "5e6c3291-e3ab-420c-e6a8-d09a62179c49"
      },
      "execution_count": null,
      "outputs": [
        {
          "output_type": "execute_result",
          "data": {
            "text/plain": [
              "Animal       object\n",
              "Forebr m    float64\n",
              "Cer m       float64\n",
              "rest m      float64\n",
              "Forebr n    float64\n",
              "Cer n       float64\n",
              "Rest n      float64\n",
              "Body m      float64\n",
              "dtype: object"
            ]
          },
          "metadata": {},
          "execution_count": 9
        }
      ]
    },
    {
      "cell_type": "code",
      "source": [
        "Br.head(5)"
      ],
      "metadata": {
        "colab": {
          "base_uri": "https://localhost:8080/",
          "height": 206
        },
        "id": "m2btLbuMIgJy",
        "outputId": "f667bf0e-e2ce-4908-a9c8-09363ef9da2e"
      },
      "execution_count": null,
      "outputs": [
        {
          "output_type": "execute_result",
          "data": {
            "text/plain": [
              "                      Animal  Forebr m   Cer m  rest m   Forebr n       Cer n  \\\n",
              "1  African sheath-tailed bat    0.0899  0.0540   0.098  5080000.0  47984000.0   \n",
              "2     Little free-tailed bat    0.0840  0.0360   0.084  5632000.0  25324000.0   \n",
              "3         Rufous trident bat    0.0930  0.0720   0.084  6039000.0  59651000.0   \n",
              "4       Common bent-wing bat    0.0858  0.0485   0.086  6116000.0  44447000.0   \n",
              "5             Naked mole-rat    0.1840  0.0480   0.160  6150000.0  15740000.0   \n",
              "\n",
              "      Rest n  Body m  \n",
              "1  5514000.0    11.5  \n",
              "2  4001000.0     5.4  \n",
              "3  4072000.0    13.7  \n",
              "4  5094000.0    11.6  \n",
              "5  4980000.0    35.3  "
            ],
            "text/html": [
              "\n",
              "  <div id=\"df-0cdb5faf-c6bd-4a19-8d72-faf3769f314f\">\n",
              "    <div class=\"colab-df-container\">\n",
              "      <div>\n",
              "<style scoped>\n",
              "    .dataframe tbody tr th:only-of-type {\n",
              "        vertical-align: middle;\n",
              "    }\n",
              "\n",
              "    .dataframe tbody tr th {\n",
              "        vertical-align: top;\n",
              "    }\n",
              "\n",
              "    .dataframe thead th {\n",
              "        text-align: right;\n",
              "    }\n",
              "</style>\n",
              "<table border=\"1\" class=\"dataframe\">\n",
              "  <thead>\n",
              "    <tr style=\"text-align: right;\">\n",
              "      <th></th>\n",
              "      <th>Animal</th>\n",
              "      <th>Forebr m</th>\n",
              "      <th>Cer m</th>\n",
              "      <th>rest m</th>\n",
              "      <th>Forebr n</th>\n",
              "      <th>Cer n</th>\n",
              "      <th>Rest n</th>\n",
              "      <th>Body m</th>\n",
              "    </tr>\n",
              "  </thead>\n",
              "  <tbody>\n",
              "    <tr>\n",
              "      <th>1</th>\n",
              "      <td>African sheath-tailed bat</td>\n",
              "      <td>0.0899</td>\n",
              "      <td>0.0540</td>\n",
              "      <td>0.098</td>\n",
              "      <td>5080000.0</td>\n",
              "      <td>47984000.0</td>\n",
              "      <td>5514000.0</td>\n",
              "      <td>11.5</td>\n",
              "    </tr>\n",
              "    <tr>\n",
              "      <th>2</th>\n",
              "      <td>Little free-tailed bat</td>\n",
              "      <td>0.0840</td>\n",
              "      <td>0.0360</td>\n",
              "      <td>0.084</td>\n",
              "      <td>5632000.0</td>\n",
              "      <td>25324000.0</td>\n",
              "      <td>4001000.0</td>\n",
              "      <td>5.4</td>\n",
              "    </tr>\n",
              "    <tr>\n",
              "      <th>3</th>\n",
              "      <td>Rufous trident bat</td>\n",
              "      <td>0.0930</td>\n",
              "      <td>0.0720</td>\n",
              "      <td>0.084</td>\n",
              "      <td>6039000.0</td>\n",
              "      <td>59651000.0</td>\n",
              "      <td>4072000.0</td>\n",
              "      <td>13.7</td>\n",
              "    </tr>\n",
              "    <tr>\n",
              "      <th>4</th>\n",
              "      <td>Common bent-wing bat</td>\n",
              "      <td>0.0858</td>\n",
              "      <td>0.0485</td>\n",
              "      <td>0.086</td>\n",
              "      <td>6116000.0</td>\n",
              "      <td>44447000.0</td>\n",
              "      <td>5094000.0</td>\n",
              "      <td>11.6</td>\n",
              "    </tr>\n",
              "    <tr>\n",
              "      <th>5</th>\n",
              "      <td>Naked mole-rat</td>\n",
              "      <td>0.1840</td>\n",
              "      <td>0.0480</td>\n",
              "      <td>0.160</td>\n",
              "      <td>6150000.0</td>\n",
              "      <td>15740000.0</td>\n",
              "      <td>4980000.0</td>\n",
              "      <td>35.3</td>\n",
              "    </tr>\n",
              "  </tbody>\n",
              "</table>\n",
              "</div>\n",
              "      <button class=\"colab-df-convert\" onclick=\"convertToInteractive('df-0cdb5faf-c6bd-4a19-8d72-faf3769f314f')\"\n",
              "              title=\"Convert this dataframe to an interactive table.\"\n",
              "              style=\"display:none;\">\n",
              "        \n",
              "  <svg xmlns=\"http://www.w3.org/2000/svg\" height=\"24px\"viewBox=\"0 0 24 24\"\n",
              "       width=\"24px\">\n",
              "    <path d=\"M0 0h24v24H0V0z\" fill=\"none\"/>\n",
              "    <path d=\"M18.56 5.44l.94 2.06.94-2.06 2.06-.94-2.06-.94-.94-2.06-.94 2.06-2.06.94zm-11 1L8.5 8.5l.94-2.06 2.06-.94-2.06-.94L8.5 2.5l-.94 2.06-2.06.94zm10 10l.94 2.06.94-2.06 2.06-.94-2.06-.94-.94-2.06-.94 2.06-2.06.94z\"/><path d=\"M17.41 7.96l-1.37-1.37c-.4-.4-.92-.59-1.43-.59-.52 0-1.04.2-1.43.59L10.3 9.45l-7.72 7.72c-.78.78-.78 2.05 0 2.83L4 21.41c.39.39.9.59 1.41.59.51 0 1.02-.2 1.41-.59l7.78-7.78 2.81-2.81c.8-.78.8-2.07 0-2.86zM5.41 20L4 18.59l7.72-7.72 1.47 1.35L5.41 20z\"/>\n",
              "  </svg>\n",
              "      </button>\n",
              "      \n",
              "  <style>\n",
              "    .colab-df-container {\n",
              "      display:flex;\n",
              "      flex-wrap:wrap;\n",
              "      gap: 12px;\n",
              "    }\n",
              "\n",
              "    .colab-df-convert {\n",
              "      background-color: #E8F0FE;\n",
              "      border: none;\n",
              "      border-radius: 50%;\n",
              "      cursor: pointer;\n",
              "      display: none;\n",
              "      fill: #1967D2;\n",
              "      height: 32px;\n",
              "      padding: 0 0 0 0;\n",
              "      width: 32px;\n",
              "    }\n",
              "\n",
              "    .colab-df-convert:hover {\n",
              "      background-color: #E2EBFA;\n",
              "      box-shadow: 0px 1px 2px rgba(60, 64, 67, 0.3), 0px 1px 3px 1px rgba(60, 64, 67, 0.15);\n",
              "      fill: #174EA6;\n",
              "    }\n",
              "\n",
              "    [theme=dark] .colab-df-convert {\n",
              "      background-color: #3B4455;\n",
              "      fill: #D2E3FC;\n",
              "    }\n",
              "\n",
              "    [theme=dark] .colab-df-convert:hover {\n",
              "      background-color: #434B5C;\n",
              "      box-shadow: 0px 1px 3px 1px rgba(0, 0, 0, 0.15);\n",
              "      filter: drop-shadow(0px 1px 2px rgba(0, 0, 0, 0.3));\n",
              "      fill: #FFFFFF;\n",
              "    }\n",
              "  </style>\n",
              "\n",
              "      <script>\n",
              "        const buttonEl =\n",
              "          document.querySelector('#df-0cdb5faf-c6bd-4a19-8d72-faf3769f314f button.colab-df-convert');\n",
              "        buttonEl.style.display =\n",
              "          google.colab.kernel.accessAllowed ? 'block' : 'none';\n",
              "\n",
              "        async function convertToInteractive(key) {\n",
              "          const element = document.querySelector('#df-0cdb5faf-c6bd-4a19-8d72-faf3769f314f');\n",
              "          const dataTable =\n",
              "            await google.colab.kernel.invokeFunction('convertToInteractive',\n",
              "                                                     [key], {});\n",
              "          if (!dataTable) return;\n",
              "\n",
              "          const docLinkHtml = 'Like what you see? Visit the ' +\n",
              "            '<a target=\"_blank\" href=https://colab.research.google.com/notebooks/data_table.ipynb>data table notebook</a>'\n",
              "            + ' to learn more about interactive tables.';\n",
              "          element.innerHTML = '';\n",
              "          dataTable['output_type'] = 'display_data';\n",
              "          await google.colab.output.renderOutput(dataTable, element);\n",
              "          const docLink = document.createElement('div');\n",
              "          docLink.innerHTML = docLinkHtml;\n",
              "          element.appendChild(docLink);\n",
              "        }\n",
              "      </script>\n",
              "    </div>\n",
              "  </div>\n",
              "  "
            ]
          },
          "metadata": {},
          "execution_count": 10
        }
      ]
    },
    {
      "cell_type": "code",
      "source": [
        "X = Br[[\"Forebr m\", \"Cer m\", \"rest m\", \"Body m\"]]\n",
        "Y1 = Br[\"Forebr n\"]\n",
        "Y2 = Br[\"Cer n\"]\n",
        "Y3 = Br[\"Rest n\"]"
      ],
      "metadata": {
        "id": "pFwnJ7cR_Rns"
      },
      "execution_count": null,
      "outputs": []
    },
    {
      "cell_type": "code",
      "source": [
        "x_train, x_test, y_train1, y_test1 = train_test_split(X, Y1, test_size=0.25)\n",
        "x_train"
      ],
      "metadata": {
        "colab": {
          "base_uri": "https://localhost:8080/",
          "height": 424
        },
        "id": "m3UQ6WXyA4rO",
        "outputId": "a6d970a1-8de4-412a-eac1-476eddd27d55"
      },
      "execution_count": null,
      "outputs": [
        {
          "output_type": "execute_result",
          "data": {
            "text/plain": [
              "     Forebr m     Cer m  rest m    Body m\n",
              "10      0.197    0.0370   0.113     21.60\n",
              "22      1.805    0.4560   1.169    310.00\n",
              "114    14.377    1.2450   5.109   1030.00\n",
              "115   382.770  106.1400  74.620  52500.00\n",
              "51      3.600    0.6496   1.105   1361.67\n",
              "..        ...       ...     ...       ...\n",
              "3       0.093    0.0720   0.084     13.70\n",
              "19      0.908    0.3910   0.500     64.80\n",
              "83     24.491    3.3380   6.357   6000.00\n",
              "5       0.184    0.0480   0.160     35.30\n",
              "38      0.277    0.0560   0.161     12.00\n",
              "\n",
              "[88 rows x 4 columns]"
            ],
            "text/html": [
              "\n",
              "  <div id=\"df-b4ecb900-1640-4401-917c-7a8b64a6cf89\">\n",
              "    <div class=\"colab-df-container\">\n",
              "      <div>\n",
              "<style scoped>\n",
              "    .dataframe tbody tr th:only-of-type {\n",
              "        vertical-align: middle;\n",
              "    }\n",
              "\n",
              "    .dataframe tbody tr th {\n",
              "        vertical-align: top;\n",
              "    }\n",
              "\n",
              "    .dataframe thead th {\n",
              "        text-align: right;\n",
              "    }\n",
              "</style>\n",
              "<table border=\"1\" class=\"dataframe\">\n",
              "  <thead>\n",
              "    <tr style=\"text-align: right;\">\n",
              "      <th></th>\n",
              "      <th>Forebr m</th>\n",
              "      <th>Cer m</th>\n",
              "      <th>rest m</th>\n",
              "      <th>Body m</th>\n",
              "    </tr>\n",
              "  </thead>\n",
              "  <tbody>\n",
              "    <tr>\n",
              "      <th>10</th>\n",
              "      <td>0.197</td>\n",
              "      <td>0.0370</td>\n",
              "      <td>0.113</td>\n",
              "      <td>21.60</td>\n",
              "    </tr>\n",
              "    <tr>\n",
              "      <th>22</th>\n",
              "      <td>1.805</td>\n",
              "      <td>0.4560</td>\n",
              "      <td>1.169</td>\n",
              "      <td>310.00</td>\n",
              "    </tr>\n",
              "    <tr>\n",
              "      <th>114</th>\n",
              "      <td>14.377</td>\n",
              "      <td>1.2450</td>\n",
              "      <td>5.109</td>\n",
              "      <td>1030.00</td>\n",
              "    </tr>\n",
              "    <tr>\n",
              "      <th>115</th>\n",
              "      <td>382.770</td>\n",
              "      <td>106.1400</td>\n",
              "      <td>74.620</td>\n",
              "      <td>52500.00</td>\n",
              "    </tr>\n",
              "    <tr>\n",
              "      <th>51</th>\n",
              "      <td>3.600</td>\n",
              "      <td>0.6496</td>\n",
              "      <td>1.105</td>\n",
              "      <td>1361.67</td>\n",
              "    </tr>\n",
              "    <tr>\n",
              "      <th>...</th>\n",
              "      <td>...</td>\n",
              "      <td>...</td>\n",
              "      <td>...</td>\n",
              "      <td>...</td>\n",
              "    </tr>\n",
              "    <tr>\n",
              "      <th>3</th>\n",
              "      <td>0.093</td>\n",
              "      <td>0.0720</td>\n",
              "      <td>0.084</td>\n",
              "      <td>13.70</td>\n",
              "    </tr>\n",
              "    <tr>\n",
              "      <th>19</th>\n",
              "      <td>0.908</td>\n",
              "      <td>0.3910</td>\n",
              "      <td>0.500</td>\n",
              "      <td>64.80</td>\n",
              "    </tr>\n",
              "    <tr>\n",
              "      <th>83</th>\n",
              "      <td>24.491</td>\n",
              "      <td>3.3380</td>\n",
              "      <td>6.357</td>\n",
              "      <td>6000.00</td>\n",
              "    </tr>\n",
              "    <tr>\n",
              "      <th>5</th>\n",
              "      <td>0.184</td>\n",
              "      <td>0.0480</td>\n",
              "      <td>0.160</td>\n",
              "      <td>35.30</td>\n",
              "    </tr>\n",
              "    <tr>\n",
              "      <th>38</th>\n",
              "      <td>0.277</td>\n",
              "      <td>0.0560</td>\n",
              "      <td>0.161</td>\n",
              "      <td>12.00</td>\n",
              "    </tr>\n",
              "  </tbody>\n",
              "</table>\n",
              "<p>88 rows × 4 columns</p>\n",
              "</div>\n",
              "      <button class=\"colab-df-convert\" onclick=\"convertToInteractive('df-b4ecb900-1640-4401-917c-7a8b64a6cf89')\"\n",
              "              title=\"Convert this dataframe to an interactive table.\"\n",
              "              style=\"display:none;\">\n",
              "        \n",
              "  <svg xmlns=\"http://www.w3.org/2000/svg\" height=\"24px\"viewBox=\"0 0 24 24\"\n",
              "       width=\"24px\">\n",
              "    <path d=\"M0 0h24v24H0V0z\" fill=\"none\"/>\n",
              "    <path d=\"M18.56 5.44l.94 2.06.94-2.06 2.06-.94-2.06-.94-.94-2.06-.94 2.06-2.06.94zm-11 1L8.5 8.5l.94-2.06 2.06-.94-2.06-.94L8.5 2.5l-.94 2.06-2.06.94zm10 10l.94 2.06.94-2.06 2.06-.94-2.06-.94-.94-2.06-.94 2.06-2.06.94z\"/><path d=\"M17.41 7.96l-1.37-1.37c-.4-.4-.92-.59-1.43-.59-.52 0-1.04.2-1.43.59L10.3 9.45l-7.72 7.72c-.78.78-.78 2.05 0 2.83L4 21.41c.39.39.9.59 1.41.59.51 0 1.02-.2 1.41-.59l7.78-7.78 2.81-2.81c.8-.78.8-2.07 0-2.86zM5.41 20L4 18.59l7.72-7.72 1.47 1.35L5.41 20z\"/>\n",
              "  </svg>\n",
              "      </button>\n",
              "      \n",
              "  <style>\n",
              "    .colab-df-container {\n",
              "      display:flex;\n",
              "      flex-wrap:wrap;\n",
              "      gap: 12px;\n",
              "    }\n",
              "\n",
              "    .colab-df-convert {\n",
              "      background-color: #E8F0FE;\n",
              "      border: none;\n",
              "      border-radius: 50%;\n",
              "      cursor: pointer;\n",
              "      display: none;\n",
              "      fill: #1967D2;\n",
              "      height: 32px;\n",
              "      padding: 0 0 0 0;\n",
              "      width: 32px;\n",
              "    }\n",
              "\n",
              "    .colab-df-convert:hover {\n",
              "      background-color: #E2EBFA;\n",
              "      box-shadow: 0px 1px 2px rgba(60, 64, 67, 0.3), 0px 1px 3px 1px rgba(60, 64, 67, 0.15);\n",
              "      fill: #174EA6;\n",
              "    }\n",
              "\n",
              "    [theme=dark] .colab-df-convert {\n",
              "      background-color: #3B4455;\n",
              "      fill: #D2E3FC;\n",
              "    }\n",
              "\n",
              "    [theme=dark] .colab-df-convert:hover {\n",
              "      background-color: #434B5C;\n",
              "      box-shadow: 0px 1px 3px 1px rgba(0, 0, 0, 0.15);\n",
              "      filter: drop-shadow(0px 1px 2px rgba(0, 0, 0, 0.3));\n",
              "      fill: #FFFFFF;\n",
              "    }\n",
              "  </style>\n",
              "\n",
              "      <script>\n",
              "        const buttonEl =\n",
              "          document.querySelector('#df-b4ecb900-1640-4401-917c-7a8b64a6cf89 button.colab-df-convert');\n",
              "        buttonEl.style.display =\n",
              "          google.colab.kernel.accessAllowed ? 'block' : 'none';\n",
              "\n",
              "        async function convertToInteractive(key) {\n",
              "          const element = document.querySelector('#df-b4ecb900-1640-4401-917c-7a8b64a6cf89');\n",
              "          const dataTable =\n",
              "            await google.colab.kernel.invokeFunction('convertToInteractive',\n",
              "                                                     [key], {});\n",
              "          if (!dataTable) return;\n",
              "\n",
              "          const docLinkHtml = 'Like what you see? Visit the ' +\n",
              "            '<a target=\"_blank\" href=https://colab.research.google.com/notebooks/data_table.ipynb>data table notebook</a>'\n",
              "            + ' to learn more about interactive tables.';\n",
              "          element.innerHTML = '';\n",
              "          dataTable['output_type'] = 'display_data';\n",
              "          await google.colab.output.renderOutput(dataTable, element);\n",
              "          const docLink = document.createElement('div');\n",
              "          docLink.innerHTML = docLinkHtml;\n",
              "          element.appendChild(docLink);\n",
              "        }\n",
              "      </script>\n",
              "    </div>\n",
              "  </div>\n",
              "  "
            ]
          },
          "metadata": {},
          "execution_count": 26
        }
      ]
    },
    {
      "cell_type": "code",
      "source": [
        "regr = RandomForestRegressor()"
      ],
      "metadata": {
        "id": "X9zvSYIHBOkl"
      },
      "execution_count": null,
      "outputs": []
    },
    {
      "cell_type": "code",
      "source": [
        "regr.fit(x_train, y_train1)"
      ],
      "metadata": {
        "colab": {
          "base_uri": "https://localhost:8080/"
        },
        "id": "EIt0Tfi8B4Rt",
        "outputId": "1811d743-c2bf-401f-fd47-5a949f65508c"
      },
      "execution_count": null,
      "outputs": [
        {
          "output_type": "execute_result",
          "data": {
            "text/plain": [
              "RandomForestRegressor()"
            ]
          },
          "metadata": {},
          "execution_count": 33
        }
      ]
    },
    {
      "cell_type": "code",
      "source": [
        "regr.predict(x_test)"
      ],
      "metadata": {
        "colab": {
          "base_uri": "https://localhost:8080/"
        },
        "id": "qNfv1KMVCPXG",
        "outputId": "fbc90125-e026-4b7d-eea6-4771e24b8fa3"
      },
      "execution_count": null,
      "outputs": [
        {
          "output_type": "execute_result",
          "data": {
            "text/plain": [
              "array([2.0672090e+07, 7.2739052e+08, 8.0739200e+06, 2.9537822e+08,\n",
              "       6.0982511e+08, 4.6787130e+07, 3.8986496e+08, 1.6439801e+08,\n",
              "       5.2453890e+07, 1.8435390e+07, 6.2740609e+08, 3.1143463e+08,\n",
              "       1.1040241e+08, 2.9875360e+07, 9.3883760e+08, 7.1788960e+07,\n",
              "       2.5102556e+08, 5.6432080e+08, 7.9117562e+08, 1.9397943e+08,\n",
              "       4.9639900e+07, 1.2256461e+08, 1.4855303e+08, 2.3724010e+07,\n",
              "       2.9056682e+08, 8.6134972e+08, 4.3819010e+07, 4.4484576e+08,\n",
              "       4.7804465e+08, 4.3093917e+08])"
            ]
          },
          "metadata": {},
          "execution_count": 34
        }
      ]
    },
    {
      "cell_type": "code",
      "source": [
        "mean_squared_error(y_test1, regr.predict(x_test))"
      ],
      "metadata": {
        "colab": {
          "base_uri": "https://localhost:8080/"
        },
        "id": "qiu6ez-hCevG",
        "outputId": "bbf798e2-b79d-4728-efaa-27efb6fa7621"
      },
      "execution_count": null,
      "outputs": [
        {
          "output_type": "execute_result",
          "data": {
            "text/plain": [
              "9.938392830230995e+16"
            ]
          },
          "metadata": {},
          "execution_count": 35
        }
      ]
    },
    {
      "cell_type": "code",
      "source": [
        "r2_score(y_test1, regr.predict(x_test))"
      ],
      "metadata": {
        "colab": {
          "base_uri": "https://localhost:8080/"
        },
        "id": "VATHD1faCvqO",
        "outputId": "878245aa-0782-445a-a2c1-abf4f6275c10"
      },
      "execution_count": null,
      "outputs": [
        {
          "output_type": "execute_result",
          "data": {
            "text/plain": [
              "0.5219988034942642"
            ]
          },
          "metadata": {},
          "execution_count": 36
        }
      ]
    },
    {
      "cell_type": "code",
      "source": [
        "from sklearn.ensemble import GradientBoostingRegressor"
      ],
      "metadata": {
        "id": "SdSyQD7GGPdI"
      },
      "execution_count": null,
      "outputs": []
    },
    {
      "cell_type": "code",
      "source": [
        "reg2 = GradientBoostingRegressor(random_state=0)"
      ],
      "metadata": {
        "id": "tZoEXQeYGRQo"
      },
      "execution_count": null,
      "outputs": []
    },
    {
      "cell_type": "code",
      "source": [
        "reg2.fit(x_train, y_train1)"
      ],
      "metadata": {
        "colab": {
          "base_uri": "https://localhost:8080/"
        },
        "id": "hP-f9BBxGXvS",
        "outputId": "2c5a41e7-73c4-4935-eeba-7ff0905c6b25"
      },
      "execution_count": null,
      "outputs": [
        {
          "output_type": "execute_result",
          "data": {
            "text/plain": [
              "GradientBoostingRegressor(random_state=0)"
            ]
          },
          "metadata": {},
          "execution_count": 40
        }
      ]
    },
    {
      "cell_type": "code",
      "source": [
        "reg2.predict(x_test)"
      ],
      "metadata": {
        "colab": {
          "base_uri": "https://localhost:8080/"
        },
        "id": "5vCb-5AUGlVn",
        "outputId": "dd2a0030-af35-41a6-f5ed-98686f3db373"
      },
      "execution_count": null,
      "outputs": [
        {
          "output_type": "execute_result",
          "data": {
            "text/plain": [
              "array([2.43191435e+07, 7.73485433e+08, 1.71788769e+07, 3.59714210e+08,\n",
              "       6.83481672e+08, 4.90099529e+07, 2.44577386e+08, 1.72595269e+08,\n",
              "       4.12578255e+07, 2.32583075e+07, 4.71488435e+08, 2.89660451e+08,\n",
              "       1.36981241e+08, 3.51349582e+07, 6.25048229e+08, 7.42069625e+07,\n",
              "       3.25517068e+08, 7.00704880e+08, 7.62244933e+08, 3.16682769e+08,\n",
              "       4.12578255e+07, 9.55822036e+07, 1.66933198e+08, 2.65205630e+07,\n",
              "       3.46446957e+08, 7.61425752e+08, 5.07725674e+07, 5.79287614e+08,\n",
              "       4.66270405e+08, 3.73066146e+08])"
            ]
          },
          "metadata": {},
          "execution_count": 41
        }
      ]
    },
    {
      "cell_type": "code",
      "source": [
        "mean_squared_error(y_test1, reg2.predict(x_test))"
      ],
      "metadata": {
        "colab": {
          "base_uri": "https://localhost:8080/"
        },
        "id": "C8X5FIJbGyyV",
        "outputId": "e6219428-fc69-4e36-db5d-ef8f45ddc7db"
      },
      "execution_count": null,
      "outputs": [
        {
          "output_type": "execute_result",
          "data": {
            "text/plain": [
              "9.078122473862864e+16"
            ]
          },
          "metadata": {},
          "execution_count": 42
        }
      ]
    },
    {
      "cell_type": "code",
      "source": [
        "r2_score(y_test1, reg2.predict(x_test))"
      ],
      "metadata": {
        "colab": {
          "base_uri": "https://localhost:8080/"
        },
        "id": "PskW6fulHAgX",
        "outputId": "c5f15c1b-a64f-44eb-f05d-dad3c5af2b51"
      },
      "execution_count": null,
      "outputs": [
        {
          "output_type": "execute_result",
          "data": {
            "text/plain": [
              "0.5633747348633229"
            ]
          },
          "metadata": {},
          "execution_count": 43
        }
      ]
    },
    {
      "cell_type": "code",
      "source": [
        "reg2.score(x_test, y_test1)"
      ],
      "metadata": {
        "colab": {
          "base_uri": "https://localhost:8080/"
        },
        "id": "Nune5TDnHGBo",
        "outputId": "91b40252-4d45-47fb-a38b-455c57efcf55"
      },
      "execution_count": null,
      "outputs": [
        {
          "output_type": "execute_result",
          "data": {
            "text/plain": [
              "0.5633747348633229"
            ]
          },
          "metadata": {},
          "execution_count": 44
        }
      ]
    },
    {
      "cell_type": "code",
      "source": [
        "reg2.predict([[1200, 150, 120, 70000]])"
      ],
      "metadata": {
        "colab": {
          "base_uri": "https://localhost:8080/"
        },
        "id": "2kHbAGPNHekT",
        "outputId": "ecdae605-bdb3-4395-9ebb-a3c85c7fce7e"
      },
      "execution_count": null,
      "outputs": [
        {
          "output_type": "stream",
          "name": "stderr",
          "text": [
            "/usr/local/lib/python3.8/dist-packages/sklearn/base.py:450: UserWarning: X does not have valid feature names, but GradientBoostingRegressor was fitted with feature names\n",
            "  warnings.warn(\n"
          ]
        },
        {
          "output_type": "execute_result",
          "data": {
            "text/plain": [
              "array([1.63061789e+10])"
            ]
          },
          "metadata": {},
          "execution_count": 46
        }
      ]
    },
    {
      "cell_type": "code",
      "source": [
        "reg2.predict([[5270, 753, 192, 3987500]])"
      ],
      "metadata": {
        "colab": {
          "base_uri": "https://localhost:8080/"
        },
        "id": "AnpjItsdIyS0",
        "outputId": "e6279ffe-af36-4d1e-b13b-0fdfea199085"
      },
      "execution_count": null,
      "outputs": [
        {
          "output_type": "stream",
          "name": "stderr",
          "text": [
            "/usr/local/lib/python3.8/dist-packages/sklearn/base.py:450: UserWarning: X does not have valid feature names, but GradientBoostingRegressor was fitted with feature names\n",
            "  warnings.warn(\n"
          ]
        },
        {
          "output_type": "execute_result",
          "data": {
            "text/plain": [
              "array([8.80159868e+09])"
            ]
          },
          "metadata": {},
          "execution_count": 51
        }
      ]
    },
    {
      "cell_type": "code",
      "source": [
        "reg2.predict([[2383, 575, 205, 100000000]])"
      ],
      "metadata": {
        "colab": {
          "base_uri": "https://localhost:8080/"
        },
        "id": "7FQ9dHl3JElh",
        "outputId": "5a499f60-11c9-4da3-e860-6a1bdf029f07"
      },
      "execution_count": null,
      "outputs": [
        {
          "output_type": "stream",
          "name": "stderr",
          "text": [
            "/usr/local/lib/python3.8/dist-packages/sklearn/base.py:450: UserWarning: X does not have valid feature names, but GradientBoostingRegressor was fitted with feature names\n",
            "  warnings.warn(\n"
          ]
        },
        {
          "output_type": "execute_result",
          "data": {
            "text/plain": [
              "array([1.03410211e+10])"
            ]
          },
          "metadata": {},
          "execution_count": 48
        }
      ]
    },
    {
      "cell_type": "code",
      "source": [
        "reg2.predict([[414, 35, 40, 64475]])"
      ],
      "metadata": {
        "colab": {
          "base_uri": "https://localhost:8080/"
        },
        "id": "wttVF6asJhY4",
        "outputId": "8fa9284a-9612-4f83-857c-06a84d6a014f"
      },
      "execution_count": null,
      "outputs": [
        {
          "output_type": "stream",
          "name": "stderr",
          "text": [
            "/usr/local/lib/python3.8/dist-packages/sklearn/base.py:450: UserWarning: X does not have valid feature names, but GradientBoostingRegressor was fitted with feature names\n",
            "  warnings.warn(\n"
          ]
        },
        {
          "output_type": "execute_result",
          "data": {
            "text/plain": [
              "array([2.53984956e+09])"
            ]
          },
          "metadata": {},
          "execution_count": 52
        }
      ]
    },
    {
      "cell_type": "code",
      "source": [
        "reg2.predict([[2431, 403, 91, 2200000]])"
      ],
      "metadata": {
        "colab": {
          "base_uri": "https://localhost:8080/"
        },
        "id": "3gUjAaxAJ0gq",
        "outputId": "4c261b01-d2f1-40b4-f2dc-7517238c9bb3"
      },
      "execution_count": null,
      "outputs": [
        {
          "output_type": "stream",
          "name": "stderr",
          "text": [
            "/usr/local/lib/python3.8/dist-packages/sklearn/base.py:450: UserWarning: X does not have valid feature names, but GradientBoostingRegressor was fitted with feature names\n",
            "  warnings.warn(\n"
          ]
        },
        {
          "output_type": "execute_result",
          "data": {
            "text/plain": [
              "array([1.05598494e+10])"
            ]
          },
          "metadata": {},
          "execution_count": 50
        }
      ]
    },
    {
      "cell_type": "code",
      "source": [
        "reg2.predict([[1519, 301, 90, 200000]])"
      ],
      "metadata": {
        "colab": {
          "base_uri": "https://localhost:8080/"
        },
        "id": "XXSUJH1iLjaR",
        "outputId": "d1292be3-2902-45de-eeb0-fbbe3af398ce"
      },
      "execution_count": null,
      "outputs": [
        {
          "output_type": "stream",
          "name": "stderr",
          "text": [
            "/usr/local/lib/python3.8/dist-packages/sklearn/base.py:450: UserWarning: X does not have valid feature names, but GradientBoostingRegressor was fitted with feature names\n",
            "  warnings.warn(\n"
          ]
        },
        {
          "output_type": "execute_result",
          "data": {
            "text/plain": [
              "array([1.37043018e+10])"
            ]
          },
          "metadata": {},
          "execution_count": 56
        }
      ]
    },
    {
      "cell_type": "code",
      "source": [
        "reg2.predict([[7466, 550, 184, 28500000]])"
      ],
      "metadata": {
        "colab": {
          "base_uri": "https://localhost:8080/"
        },
        "id": "kGGedqpIMnb_",
        "outputId": "37f8efac-222a-48b4-f6f0-47a369275c83"
      },
      "execution_count": null,
      "outputs": [
        {
          "output_type": "stream",
          "name": "stderr",
          "text": [
            "/usr/local/lib/python3.8/dist-packages/sklearn/base.py:450: UserWarning: X does not have valid feature names, but GradientBoostingRegressor was fitted with feature names\n",
            "  warnings.warn(\n"
          ]
        },
        {
          "output_type": "execute_result",
          "data": {
            "text/plain": [
              "array([1.03410211e+10])"
            ]
          },
          "metadata": {},
          "execution_count": 57
        }
      ]
    },
    {
      "cell_type": "code",
      "source": [
        "x_test"
      ],
      "metadata": {
        "colab": {
          "base_uri": "https://localhost:8080/",
          "height": 990
        },
        "id": "bzS3U-RhLUZc",
        "outputId": "d504e93c-5ee9-4f47-a1a7-e6964e45fdc8"
      },
      "execution_count": null,
      "outputs": [
        {
          "output_type": "execute_result",
          "data": {
            "text/plain": [
              "     Forebr m    Cer m   rest m     Body m\n",
              "21      0.360   0.1090   0.2600      94.86\n",
              "68     24.176   5.1100   5.5720    3900.00\n",
              "42      0.176   0.0400   0.1410       5.60\n",
              "59      2.260   0.4028   0.8545     649.30\n",
              "105     6.490   0.6228   1.3180     549.67\n",
              "20      1.040   0.2860   0.7120     120.00\n",
              "93     12.540   2.3578   3.1130    5228.20\n",
              "70      1.368   0.1960   0.6420      90.00\n",
              "39      0.820   0.2376   0.5430     388.70\n",
              "6       0.243   0.1070   0.2370     101.90\n",
              "97      5.502   0.5710   2.2020     275.00\n",
              "92      2.854   0.4110   1.3310     159.70\n",
              "33      1.938   0.5000   1.2180     728.00\n",
              "44      0.915   0.3320   0.8480     358.70\n",
              "94    139.902  24.8820  34.1620  175000.00\n",
              "61      0.775   0.1440   0.3970      30.00\n",
              "45      2.730   0.8740   1.9430     533.00\n",
              "107    13.480   1.2854   2.1630    1770.00\n",
              "111    48.274   5.7480   7.4480    6755.00\n",
              "66      1.880   0.5032   0.8350     204.33\n",
              "34      0.880   0.2526   0.5420     475.75\n",
              "55      3.150   0.8543   1.5970    3599.20\n",
              "58      1.091   0.2130   0.5840     103.20\n",
              "14      0.429   0.1020   0.2280      62.50\n",
              "56      2.040   0.4330   0.7300     452.20\n",
              "104    39.178   4.6000   8.4300    2643.00\n",
              "47      0.580   0.0900   0.2700      17.90\n",
              "109    11.720   1.2078   2.0810    2342.33\n",
              "89      4.165   0.4830   1.3760     246.00\n",
              "96      3.657   0.5060   1.5370     255.00"
            ],
            "text/html": [
              "\n",
              "  <div id=\"df-bf319a3a-7184-4b79-86eb-c15f71f189a6\">\n",
              "    <div class=\"colab-df-container\">\n",
              "      <div>\n",
              "<style scoped>\n",
              "    .dataframe tbody tr th:only-of-type {\n",
              "        vertical-align: middle;\n",
              "    }\n",
              "\n",
              "    .dataframe tbody tr th {\n",
              "        vertical-align: top;\n",
              "    }\n",
              "\n",
              "    .dataframe thead th {\n",
              "        text-align: right;\n",
              "    }\n",
              "</style>\n",
              "<table border=\"1\" class=\"dataframe\">\n",
              "  <thead>\n",
              "    <tr style=\"text-align: right;\">\n",
              "      <th></th>\n",
              "      <th>Forebr m</th>\n",
              "      <th>Cer m</th>\n",
              "      <th>rest m</th>\n",
              "      <th>Body m</th>\n",
              "    </tr>\n",
              "  </thead>\n",
              "  <tbody>\n",
              "    <tr>\n",
              "      <th>21</th>\n",
              "      <td>0.360</td>\n",
              "      <td>0.1090</td>\n",
              "      <td>0.2600</td>\n",
              "      <td>94.86</td>\n",
              "    </tr>\n",
              "    <tr>\n",
              "      <th>68</th>\n",
              "      <td>24.176</td>\n",
              "      <td>5.1100</td>\n",
              "      <td>5.5720</td>\n",
              "      <td>3900.00</td>\n",
              "    </tr>\n",
              "    <tr>\n",
              "      <th>42</th>\n",
              "      <td>0.176</td>\n",
              "      <td>0.0400</td>\n",
              "      <td>0.1410</td>\n",
              "      <td>5.60</td>\n",
              "    </tr>\n",
              "    <tr>\n",
              "      <th>59</th>\n",
              "      <td>2.260</td>\n",
              "      <td>0.4028</td>\n",
              "      <td>0.8545</td>\n",
              "      <td>649.30</td>\n",
              "    </tr>\n",
              "    <tr>\n",
              "      <th>105</th>\n",
              "      <td>6.490</td>\n",
              "      <td>0.6228</td>\n",
              "      <td>1.3180</td>\n",
              "      <td>549.67</td>\n",
              "    </tr>\n",
              "    <tr>\n",
              "      <th>20</th>\n",
              "      <td>1.040</td>\n",
              "      <td>0.2860</td>\n",
              "      <td>0.7120</td>\n",
              "      <td>120.00</td>\n",
              "    </tr>\n",
              "    <tr>\n",
              "      <th>93</th>\n",
              "      <td>12.540</td>\n",
              "      <td>2.3578</td>\n",
              "      <td>3.1130</td>\n",
              "      <td>5228.20</td>\n",
              "    </tr>\n",
              "    <tr>\n",
              "      <th>70</th>\n",
              "      <td>1.368</td>\n",
              "      <td>0.1960</td>\n",
              "      <td>0.6420</td>\n",
              "      <td>90.00</td>\n",
              "    </tr>\n",
              "    <tr>\n",
              "      <th>39</th>\n",
              "      <td>0.820</td>\n",
              "      <td>0.2376</td>\n",
              "      <td>0.5430</td>\n",
              "      <td>388.70</td>\n",
              "    </tr>\n",
              "    <tr>\n",
              "      <th>6</th>\n",
              "      <td>0.243</td>\n",
              "      <td>0.1070</td>\n",
              "      <td>0.2370</td>\n",
              "      <td>101.90</td>\n",
              "    </tr>\n",
              "    <tr>\n",
              "      <th>97</th>\n",
              "      <td>5.502</td>\n",
              "      <td>0.5710</td>\n",
              "      <td>2.2020</td>\n",
              "      <td>275.00</td>\n",
              "    </tr>\n",
              "    <tr>\n",
              "      <th>92</th>\n",
              "      <td>2.854</td>\n",
              "      <td>0.4110</td>\n",
              "      <td>1.3310</td>\n",
              "      <td>159.70</td>\n",
              "    </tr>\n",
              "    <tr>\n",
              "      <th>33</th>\n",
              "      <td>1.938</td>\n",
              "      <td>0.5000</td>\n",
              "      <td>1.2180</td>\n",
              "      <td>728.00</td>\n",
              "    </tr>\n",
              "    <tr>\n",
              "      <th>44</th>\n",
              "      <td>0.915</td>\n",
              "      <td>0.3320</td>\n",
              "      <td>0.8480</td>\n",
              "      <td>358.70</td>\n",
              "    </tr>\n",
              "    <tr>\n",
              "      <th>94</th>\n",
              "      <td>139.902</td>\n",
              "      <td>24.8820</td>\n",
              "      <td>34.1620</td>\n",
              "      <td>175000.00</td>\n",
              "    </tr>\n",
              "    <tr>\n",
              "      <th>61</th>\n",
              "      <td>0.775</td>\n",
              "      <td>0.1440</td>\n",
              "      <td>0.3970</td>\n",
              "      <td>30.00</td>\n",
              "    </tr>\n",
              "    <tr>\n",
              "      <th>45</th>\n",
              "      <td>2.730</td>\n",
              "      <td>0.8740</td>\n",
              "      <td>1.9430</td>\n",
              "      <td>533.00</td>\n",
              "    </tr>\n",
              "    <tr>\n",
              "      <th>107</th>\n",
              "      <td>13.480</td>\n",
              "      <td>1.2854</td>\n",
              "      <td>2.1630</td>\n",
              "      <td>1770.00</td>\n",
              "    </tr>\n",
              "    <tr>\n",
              "      <th>111</th>\n",
              "      <td>48.274</td>\n",
              "      <td>5.7480</td>\n",
              "      <td>7.4480</td>\n",
              "      <td>6755.00</td>\n",
              "    </tr>\n",
              "    <tr>\n",
              "      <th>66</th>\n",
              "      <td>1.880</td>\n",
              "      <td>0.5032</td>\n",
              "      <td>0.8350</td>\n",
              "      <td>204.33</td>\n",
              "    </tr>\n",
              "    <tr>\n",
              "      <th>34</th>\n",
              "      <td>0.880</td>\n",
              "      <td>0.2526</td>\n",
              "      <td>0.5420</td>\n",
              "      <td>475.75</td>\n",
              "    </tr>\n",
              "    <tr>\n",
              "      <th>55</th>\n",
              "      <td>3.150</td>\n",
              "      <td>0.8543</td>\n",
              "      <td>1.5970</td>\n",
              "      <td>3599.20</td>\n",
              "    </tr>\n",
              "    <tr>\n",
              "      <th>58</th>\n",
              "      <td>1.091</td>\n",
              "      <td>0.2130</td>\n",
              "      <td>0.5840</td>\n",
              "      <td>103.20</td>\n",
              "    </tr>\n",
              "    <tr>\n",
              "      <th>14</th>\n",
              "      <td>0.429</td>\n",
              "      <td>0.1020</td>\n",
              "      <td>0.2280</td>\n",
              "      <td>62.50</td>\n",
              "    </tr>\n",
              "    <tr>\n",
              "      <th>56</th>\n",
              "      <td>2.040</td>\n",
              "      <td>0.4330</td>\n",
              "      <td>0.7300</td>\n",
              "      <td>452.20</td>\n",
              "    </tr>\n",
              "    <tr>\n",
              "      <th>104</th>\n",
              "      <td>39.178</td>\n",
              "      <td>4.6000</td>\n",
              "      <td>8.4300</td>\n",
              "      <td>2643.00</td>\n",
              "    </tr>\n",
              "    <tr>\n",
              "      <th>47</th>\n",
              "      <td>0.580</td>\n",
              "      <td>0.0900</td>\n",
              "      <td>0.2700</td>\n",
              "      <td>17.90</td>\n",
              "    </tr>\n",
              "    <tr>\n",
              "      <th>109</th>\n",
              "      <td>11.720</td>\n",
              "      <td>1.2078</td>\n",
              "      <td>2.0810</td>\n",
              "      <td>2342.33</td>\n",
              "    </tr>\n",
              "    <tr>\n",
              "      <th>89</th>\n",
              "      <td>4.165</td>\n",
              "      <td>0.4830</td>\n",
              "      <td>1.3760</td>\n",
              "      <td>246.00</td>\n",
              "    </tr>\n",
              "    <tr>\n",
              "      <th>96</th>\n",
              "      <td>3.657</td>\n",
              "      <td>0.5060</td>\n",
              "      <td>1.5370</td>\n",
              "      <td>255.00</td>\n",
              "    </tr>\n",
              "  </tbody>\n",
              "</table>\n",
              "</div>\n",
              "      <button class=\"colab-df-convert\" onclick=\"convertToInteractive('df-bf319a3a-7184-4b79-86eb-c15f71f189a6')\"\n",
              "              title=\"Convert this dataframe to an interactive table.\"\n",
              "              style=\"display:none;\">\n",
              "        \n",
              "  <svg xmlns=\"http://www.w3.org/2000/svg\" height=\"24px\"viewBox=\"0 0 24 24\"\n",
              "       width=\"24px\">\n",
              "    <path d=\"M0 0h24v24H0V0z\" fill=\"none\"/>\n",
              "    <path d=\"M18.56 5.44l.94 2.06.94-2.06 2.06-.94-2.06-.94-.94-2.06-.94 2.06-2.06.94zm-11 1L8.5 8.5l.94-2.06 2.06-.94-2.06-.94L8.5 2.5l-.94 2.06-2.06.94zm10 10l.94 2.06.94-2.06 2.06-.94-2.06-.94-.94-2.06-.94 2.06-2.06.94z\"/><path d=\"M17.41 7.96l-1.37-1.37c-.4-.4-.92-.59-1.43-.59-.52 0-1.04.2-1.43.59L10.3 9.45l-7.72 7.72c-.78.78-.78 2.05 0 2.83L4 21.41c.39.39.9.59 1.41.59.51 0 1.02-.2 1.41-.59l7.78-7.78 2.81-2.81c.8-.78.8-2.07 0-2.86zM5.41 20L4 18.59l7.72-7.72 1.47 1.35L5.41 20z\"/>\n",
              "  </svg>\n",
              "      </button>\n",
              "      \n",
              "  <style>\n",
              "    .colab-df-container {\n",
              "      display:flex;\n",
              "      flex-wrap:wrap;\n",
              "      gap: 12px;\n",
              "    }\n",
              "\n",
              "    .colab-df-convert {\n",
              "      background-color: #E8F0FE;\n",
              "      border: none;\n",
              "      border-radius: 50%;\n",
              "      cursor: pointer;\n",
              "      display: none;\n",
              "      fill: #1967D2;\n",
              "      height: 32px;\n",
              "      padding: 0 0 0 0;\n",
              "      width: 32px;\n",
              "    }\n",
              "\n",
              "    .colab-df-convert:hover {\n",
              "      background-color: #E2EBFA;\n",
              "      box-shadow: 0px 1px 2px rgba(60, 64, 67, 0.3), 0px 1px 3px 1px rgba(60, 64, 67, 0.15);\n",
              "      fill: #174EA6;\n",
              "    }\n",
              "\n",
              "    [theme=dark] .colab-df-convert {\n",
              "      background-color: #3B4455;\n",
              "      fill: #D2E3FC;\n",
              "    }\n",
              "\n",
              "    [theme=dark] .colab-df-convert:hover {\n",
              "      background-color: #434B5C;\n",
              "      box-shadow: 0px 1px 3px 1px rgba(0, 0, 0, 0.15);\n",
              "      filter: drop-shadow(0px 1px 2px rgba(0, 0, 0, 0.3));\n",
              "      fill: #FFFFFF;\n",
              "    }\n",
              "  </style>\n",
              "\n",
              "      <script>\n",
              "        const buttonEl =\n",
              "          document.querySelector('#df-bf319a3a-7184-4b79-86eb-c15f71f189a6 button.colab-df-convert');\n",
              "        buttonEl.style.display =\n",
              "          google.colab.kernel.accessAllowed ? 'block' : 'none';\n",
              "\n",
              "        async function convertToInteractive(key) {\n",
              "          const element = document.querySelector('#df-bf319a3a-7184-4b79-86eb-c15f71f189a6');\n",
              "          const dataTable =\n",
              "            await google.colab.kernel.invokeFunction('convertToInteractive',\n",
              "                                                     [key], {});\n",
              "          if (!dataTable) return;\n",
              "\n",
              "          const docLinkHtml = 'Like what you see? Visit the ' +\n",
              "            '<a target=\"_blank\" href=https://colab.research.google.com/notebooks/data_table.ipynb>data table notebook</a>'\n",
              "            + ' to learn more about interactive tables.';\n",
              "          element.innerHTML = '';\n",
              "          dataTable['output_type'] = 'display_data';\n",
              "          await google.colab.output.renderOutput(dataTable, element);\n",
              "          const docLink = document.createElement('div');\n",
              "          docLink.innerHTML = docLinkHtml;\n",
              "          element.appendChild(docLink);\n",
              "        }\n",
              "      </script>\n",
              "    </div>\n",
              "  </div>\n",
              "  "
            ]
          },
          "metadata": {},
          "execution_count": 53
        }
      ]
    }
  ]
}