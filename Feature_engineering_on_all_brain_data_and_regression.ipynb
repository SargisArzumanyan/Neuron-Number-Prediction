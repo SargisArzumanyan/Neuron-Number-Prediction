{
  "nbformat": 4,
  "nbformat_minor": 0,
  "metadata": {
    "colab": {
      "provenance": []
    },
    "kernelspec": {
      "name": "python3",
      "display_name": "Python 3"
    },
    "language_info": {
      "name": "python"
    }
  },
  "cells": [
    {
      "cell_type": "code",
      "execution_count": 1,
      "metadata": {
        "id": "wYDz-fkz5JJy"
      },
      "outputs": [],
      "source": [
        "import pandas as pd\n",
        "import numpy as np\n",
        "from sklearn.model_selection import train_test_split\n",
        "from sklearn.metrics import mean_squared_error\n",
        "from sklearn.metrics import r2_score\n",
        "from sklearn.ensemble import GradientBoostingRegressor\n",
        "import matplotlib.pyplot as plt\n",
        "import seaborn as sns"
      ]
    },
    {
      "cell_type": "code",
      "source": [
        "Brain = pd.read_csv(\"Brain Data 2.csv\")\n",
        "Brain = Brain.dropna()\n",
        "Brain.head(8)"
      ],
      "metadata": {
        "colab": {
          "base_uri": "https://localhost:8080/",
          "height": 300
        },
        "id": "i4x0cjFm6HA8",
        "outputId": "9333fc86-8580-40e7-c03b-9b62e6458ce7"
      },
      "execution_count": 3,
      "outputs": [
        {
          "output_type": "execute_result",
          "data": {
            "text/plain": [
              "                      Animal  Forebr m   Cer m  rest m    Forebr n  \\\n",
              "1  African sheath-tailed bat    0.0899  0.0540   0.098   5,080,000   \n",
              "2     Little free-tailed bat    0.0840  0.0360   0.084   5,632,000   \n",
              "3         Rufous trident bat    0.0930  0.0720   0.084   6,039,000   \n",
              "4       Common bent-wing bat    0.0858  0.0485   0.086   6,116,000   \n",
              "5             Naked mole-rat    0.1840  0.0480   0.160   6,150,000   \n",
              "6  Commerson's roundleaf bat    0.2430  0.1070   0.237   7,877,000   \n",
              "7                Smoky shrew    0.0840  0.0200   0.072   9,730,000   \n",
              "8            Heart-nosed bat    0.2570  0.1030   0.201  10,221,000   \n",
              "\n",
              "        Cer n     Rest n  Body m  \n",
              "1  47,984,000  5,514,000    11.5  \n",
              "2  25,324,000  4,001,000     5.4  \n",
              "3  59,651,000  4,072,000    13.7  \n",
              "4  44,447,000  5,094,000    11.6  \n",
              "5  15,740,000  4,980,000    35.3  \n",
              "6  51,875,000  6,965,000   101.9  \n",
              "7  20,870,000  5,560,000     7.5  \n",
              "8  63,792,000  7,317,000    26.0  "
            ],
            "text/html": [
              "\n",
              "  <div id=\"df-548678b9-e385-4d25-bf21-b176b45abee8\">\n",
              "    <div class=\"colab-df-container\">\n",
              "      <div>\n",
              "<style scoped>\n",
              "    .dataframe tbody tr th:only-of-type {\n",
              "        vertical-align: middle;\n",
              "    }\n",
              "\n",
              "    .dataframe tbody tr th {\n",
              "        vertical-align: top;\n",
              "    }\n",
              "\n",
              "    .dataframe thead th {\n",
              "        text-align: right;\n",
              "    }\n",
              "</style>\n",
              "<table border=\"1\" class=\"dataframe\">\n",
              "  <thead>\n",
              "    <tr style=\"text-align: right;\">\n",
              "      <th></th>\n",
              "      <th>Animal</th>\n",
              "      <th>Forebr m</th>\n",
              "      <th>Cer m</th>\n",
              "      <th>rest m</th>\n",
              "      <th>Forebr n</th>\n",
              "      <th>Cer n</th>\n",
              "      <th>Rest n</th>\n",
              "      <th>Body m</th>\n",
              "    </tr>\n",
              "  </thead>\n",
              "  <tbody>\n",
              "    <tr>\n",
              "      <th>1</th>\n",
              "      <td>African sheath-tailed bat</td>\n",
              "      <td>0.0899</td>\n",
              "      <td>0.0540</td>\n",
              "      <td>0.098</td>\n",
              "      <td>5,080,000</td>\n",
              "      <td>47,984,000</td>\n",
              "      <td>5,514,000</td>\n",
              "      <td>11.5</td>\n",
              "    </tr>\n",
              "    <tr>\n",
              "      <th>2</th>\n",
              "      <td>Little free-tailed bat</td>\n",
              "      <td>0.0840</td>\n",
              "      <td>0.0360</td>\n",
              "      <td>0.084</td>\n",
              "      <td>5,632,000</td>\n",
              "      <td>25,324,000</td>\n",
              "      <td>4,001,000</td>\n",
              "      <td>5.4</td>\n",
              "    </tr>\n",
              "    <tr>\n",
              "      <th>3</th>\n",
              "      <td>Rufous trident bat</td>\n",
              "      <td>0.0930</td>\n",
              "      <td>0.0720</td>\n",
              "      <td>0.084</td>\n",
              "      <td>6,039,000</td>\n",
              "      <td>59,651,000</td>\n",
              "      <td>4,072,000</td>\n",
              "      <td>13.7</td>\n",
              "    </tr>\n",
              "    <tr>\n",
              "      <th>4</th>\n",
              "      <td>Common bent-wing bat</td>\n",
              "      <td>0.0858</td>\n",
              "      <td>0.0485</td>\n",
              "      <td>0.086</td>\n",
              "      <td>6,116,000</td>\n",
              "      <td>44,447,000</td>\n",
              "      <td>5,094,000</td>\n",
              "      <td>11.6</td>\n",
              "    </tr>\n",
              "    <tr>\n",
              "      <th>5</th>\n",
              "      <td>Naked mole-rat</td>\n",
              "      <td>0.1840</td>\n",
              "      <td>0.0480</td>\n",
              "      <td>0.160</td>\n",
              "      <td>6,150,000</td>\n",
              "      <td>15,740,000</td>\n",
              "      <td>4,980,000</td>\n",
              "      <td>35.3</td>\n",
              "    </tr>\n",
              "    <tr>\n",
              "      <th>6</th>\n",
              "      <td>Commerson's roundleaf bat</td>\n",
              "      <td>0.2430</td>\n",
              "      <td>0.1070</td>\n",
              "      <td>0.237</td>\n",
              "      <td>7,877,000</td>\n",
              "      <td>51,875,000</td>\n",
              "      <td>6,965,000</td>\n",
              "      <td>101.9</td>\n",
              "    </tr>\n",
              "    <tr>\n",
              "      <th>7</th>\n",
              "      <td>Smoky shrew</td>\n",
              "      <td>0.0840</td>\n",
              "      <td>0.0200</td>\n",
              "      <td>0.072</td>\n",
              "      <td>9,730,000</td>\n",
              "      <td>20,870,000</td>\n",
              "      <td>5,560,000</td>\n",
              "      <td>7.5</td>\n",
              "    </tr>\n",
              "    <tr>\n",
              "      <th>8</th>\n",
              "      <td>Heart-nosed bat</td>\n",
              "      <td>0.2570</td>\n",
              "      <td>0.1030</td>\n",
              "      <td>0.201</td>\n",
              "      <td>10,221,000</td>\n",
              "      <td>63,792,000</td>\n",
              "      <td>7,317,000</td>\n",
              "      <td>26.0</td>\n",
              "    </tr>\n",
              "  </tbody>\n",
              "</table>\n",
              "</div>\n",
              "      <button class=\"colab-df-convert\" onclick=\"convertToInteractive('df-548678b9-e385-4d25-bf21-b176b45abee8')\"\n",
              "              title=\"Convert this dataframe to an interactive table.\"\n",
              "              style=\"display:none;\">\n",
              "        \n",
              "  <svg xmlns=\"http://www.w3.org/2000/svg\" height=\"24px\"viewBox=\"0 0 24 24\"\n",
              "       width=\"24px\">\n",
              "    <path d=\"M0 0h24v24H0V0z\" fill=\"none\"/>\n",
              "    <path d=\"M18.56 5.44l.94 2.06.94-2.06 2.06-.94-2.06-.94-.94-2.06-.94 2.06-2.06.94zm-11 1L8.5 8.5l.94-2.06 2.06-.94-2.06-.94L8.5 2.5l-.94 2.06-2.06.94zm10 10l.94 2.06.94-2.06 2.06-.94-2.06-.94-.94-2.06-.94 2.06-2.06.94z\"/><path d=\"M17.41 7.96l-1.37-1.37c-.4-.4-.92-.59-1.43-.59-.52 0-1.04.2-1.43.59L10.3 9.45l-7.72 7.72c-.78.78-.78 2.05 0 2.83L4 21.41c.39.39.9.59 1.41.59.51 0 1.02-.2 1.41-.59l7.78-7.78 2.81-2.81c.8-.78.8-2.07 0-2.86zM5.41 20L4 18.59l7.72-7.72 1.47 1.35L5.41 20z\"/>\n",
              "  </svg>\n",
              "      </button>\n",
              "      \n",
              "  <style>\n",
              "    .colab-df-container {\n",
              "      display:flex;\n",
              "      flex-wrap:wrap;\n",
              "      gap: 12px;\n",
              "    }\n",
              "\n",
              "    .colab-df-convert {\n",
              "      background-color: #E8F0FE;\n",
              "      border: none;\n",
              "      border-radius: 50%;\n",
              "      cursor: pointer;\n",
              "      display: none;\n",
              "      fill: #1967D2;\n",
              "      height: 32px;\n",
              "      padding: 0 0 0 0;\n",
              "      width: 32px;\n",
              "    }\n",
              "\n",
              "    .colab-df-convert:hover {\n",
              "      background-color: #E2EBFA;\n",
              "      box-shadow: 0px 1px 2px rgba(60, 64, 67, 0.3), 0px 1px 3px 1px rgba(60, 64, 67, 0.15);\n",
              "      fill: #174EA6;\n",
              "    }\n",
              "\n",
              "    [theme=dark] .colab-df-convert {\n",
              "      background-color: #3B4455;\n",
              "      fill: #D2E3FC;\n",
              "    }\n",
              "\n",
              "    [theme=dark] .colab-df-convert:hover {\n",
              "      background-color: #434B5C;\n",
              "      box-shadow: 0px 1px 3px 1px rgba(0, 0, 0, 0.15);\n",
              "      filter: drop-shadow(0px 1px 2px rgba(0, 0, 0, 0.3));\n",
              "      fill: #FFFFFF;\n",
              "    }\n",
              "  </style>\n",
              "\n",
              "      <script>\n",
              "        const buttonEl =\n",
              "          document.querySelector('#df-548678b9-e385-4d25-bf21-b176b45abee8 button.colab-df-convert');\n",
              "        buttonEl.style.display =\n",
              "          google.colab.kernel.accessAllowed ? 'block' : 'none';\n",
              "\n",
              "        async function convertToInteractive(key) {\n",
              "          const element = document.querySelector('#df-548678b9-e385-4d25-bf21-b176b45abee8');\n",
              "          const dataTable =\n",
              "            await google.colab.kernel.invokeFunction('convertToInteractive',\n",
              "                                                     [key], {});\n",
              "          if (!dataTable) return;\n",
              "\n",
              "          const docLinkHtml = 'Like what you see? Visit the ' +\n",
              "            '<a target=\"_blank\" href=https://colab.research.google.com/notebooks/data_table.ipynb>data table notebook</a>'\n",
              "            + ' to learn more about interactive tables.';\n",
              "          element.innerHTML = '';\n",
              "          dataTable['output_type'] = 'display_data';\n",
              "          await google.colab.output.renderOutput(dataTable, element);\n",
              "          const docLink = document.createElement('div');\n",
              "          docLink.innerHTML = docLinkHtml;\n",
              "          element.appendChild(docLink);\n",
              "        }\n",
              "      </script>\n",
              "    </div>\n",
              "  </div>\n",
              "  "
            ]
          },
          "metadata": {},
          "execution_count": 3
        }
      ]
    },
    {
      "cell_type": "code",
      "source": [
        "Brain.shape"
      ],
      "metadata": {
        "colab": {
          "base_uri": "https://localhost:8080/"
        },
        "id": "IxM8mjK1dqpI",
        "outputId": "6e059f7b-4850-4756-cc23-15403ce514cc"
      },
      "execution_count": 4,
      "outputs": [
        {
          "output_type": "execute_result",
          "data": {
            "text/plain": [
              "(164, 8)"
            ]
          },
          "metadata": {},
          "execution_count": 4
        }
      ]
    },
    {
      "cell_type": "code",
      "source": [
        "if Brain['Forebr n'].dtype != 'float64': \n",
        "     Brain['Forebr n'] = Brain['Forebr n'].str.replace(',', '').astype(float)\n",
        "if Brain['Cer n'].dtype != 'float64':\n",
        "     Brain['Cer n'] = Brain['Cer n'].str.replace(',', '').astype(float)\n",
        "if Brain['Rest n'].dtype != 'float64':\n",
        "     Brain['Rest n'] = Brain['Rest n'].str.replace(',', '').astype(float)"
      ],
      "metadata": {
        "id": "-ZDLJNTueAI2"
      },
      "execution_count": 5,
      "outputs": []
    },
    {
      "cell_type": "code",
      "source": [
        "Brain['Fmr %'] = Brain['Forebr m']/(Brain['Forebr m']+Brain['Cer m']+Brain['rest m'])\n",
        "Brain['Cmr %'] = Brain['Cer m']/(Brain['Forebr m']+Brain['Cer m']+Brain['rest m'])\n",
        "Brain['rmr %'] = Brain['rest m']/(Brain['Forebr m']+Brain['Cer m']+Brain['rest m'])\n",
        "Breng = Brain\n",
        "Breng.head()"
      ],
      "metadata": {
        "colab": {
          "base_uri": "https://localhost:8080/",
          "height": 206
        },
        "id": "0fMFmYtJ6nkm",
        "outputId": "e14f4ecc-750b-418d-ce25-4d81e2481c64"
      },
      "execution_count": 6,
      "outputs": [
        {
          "output_type": "execute_result",
          "data": {
            "text/plain": [
              "                      Animal  Forebr m   Cer m  rest m   Forebr n       Cer n  \\\n",
              "1  African sheath-tailed bat    0.0899  0.0540   0.098  5080000.0  47984000.0   \n",
              "2     Little free-tailed bat    0.0840  0.0360   0.084  5632000.0  25324000.0   \n",
              "3         Rufous trident bat    0.0930  0.0720   0.084  6039000.0  59651000.0   \n",
              "4       Common bent-wing bat    0.0858  0.0485   0.086  6116000.0  44447000.0   \n",
              "5             Naked mole-rat    0.1840  0.0480   0.160  6150000.0  15740000.0   \n",
              "\n",
              "      Rest n  Body m     Fmr %     Cmr %     rmr %  \n",
              "1  5514000.0    11.5  0.371641  0.223233  0.405126  \n",
              "2  4001000.0     5.4  0.411765  0.176471  0.411765  \n",
              "3  4072000.0    13.7  0.373494  0.289157  0.337349  \n",
              "4  5094000.0    11.6  0.389469  0.220154  0.390377  \n",
              "5  4980000.0    35.3  0.469388  0.122449  0.408163  "
            ],
            "text/html": [
              "\n",
              "  <div id=\"df-863d6302-1b55-49cc-9a22-cc85e7e604c0\">\n",
              "    <div class=\"colab-df-container\">\n",
              "      <div>\n",
              "<style scoped>\n",
              "    .dataframe tbody tr th:only-of-type {\n",
              "        vertical-align: middle;\n",
              "    }\n",
              "\n",
              "    .dataframe tbody tr th {\n",
              "        vertical-align: top;\n",
              "    }\n",
              "\n",
              "    .dataframe thead th {\n",
              "        text-align: right;\n",
              "    }\n",
              "</style>\n",
              "<table border=\"1\" class=\"dataframe\">\n",
              "  <thead>\n",
              "    <tr style=\"text-align: right;\">\n",
              "      <th></th>\n",
              "      <th>Animal</th>\n",
              "      <th>Forebr m</th>\n",
              "      <th>Cer m</th>\n",
              "      <th>rest m</th>\n",
              "      <th>Forebr n</th>\n",
              "      <th>Cer n</th>\n",
              "      <th>Rest n</th>\n",
              "      <th>Body m</th>\n",
              "      <th>Fmr %</th>\n",
              "      <th>Cmr %</th>\n",
              "      <th>rmr %</th>\n",
              "    </tr>\n",
              "  </thead>\n",
              "  <tbody>\n",
              "    <tr>\n",
              "      <th>1</th>\n",
              "      <td>African sheath-tailed bat</td>\n",
              "      <td>0.0899</td>\n",
              "      <td>0.0540</td>\n",
              "      <td>0.098</td>\n",
              "      <td>5080000.0</td>\n",
              "      <td>47984000.0</td>\n",
              "      <td>5514000.0</td>\n",
              "      <td>11.5</td>\n",
              "      <td>0.371641</td>\n",
              "      <td>0.223233</td>\n",
              "      <td>0.405126</td>\n",
              "    </tr>\n",
              "    <tr>\n",
              "      <th>2</th>\n",
              "      <td>Little free-tailed bat</td>\n",
              "      <td>0.0840</td>\n",
              "      <td>0.0360</td>\n",
              "      <td>0.084</td>\n",
              "      <td>5632000.0</td>\n",
              "      <td>25324000.0</td>\n",
              "      <td>4001000.0</td>\n",
              "      <td>5.4</td>\n",
              "      <td>0.411765</td>\n",
              "      <td>0.176471</td>\n",
              "      <td>0.411765</td>\n",
              "    </tr>\n",
              "    <tr>\n",
              "      <th>3</th>\n",
              "      <td>Rufous trident bat</td>\n",
              "      <td>0.0930</td>\n",
              "      <td>0.0720</td>\n",
              "      <td>0.084</td>\n",
              "      <td>6039000.0</td>\n",
              "      <td>59651000.0</td>\n",
              "      <td>4072000.0</td>\n",
              "      <td>13.7</td>\n",
              "      <td>0.373494</td>\n",
              "      <td>0.289157</td>\n",
              "      <td>0.337349</td>\n",
              "    </tr>\n",
              "    <tr>\n",
              "      <th>4</th>\n",
              "      <td>Common bent-wing bat</td>\n",
              "      <td>0.0858</td>\n",
              "      <td>0.0485</td>\n",
              "      <td>0.086</td>\n",
              "      <td>6116000.0</td>\n",
              "      <td>44447000.0</td>\n",
              "      <td>5094000.0</td>\n",
              "      <td>11.6</td>\n",
              "      <td>0.389469</td>\n",
              "      <td>0.220154</td>\n",
              "      <td>0.390377</td>\n",
              "    </tr>\n",
              "    <tr>\n",
              "      <th>5</th>\n",
              "      <td>Naked mole-rat</td>\n",
              "      <td>0.1840</td>\n",
              "      <td>0.0480</td>\n",
              "      <td>0.160</td>\n",
              "      <td>6150000.0</td>\n",
              "      <td>15740000.0</td>\n",
              "      <td>4980000.0</td>\n",
              "      <td>35.3</td>\n",
              "      <td>0.469388</td>\n",
              "      <td>0.122449</td>\n",
              "      <td>0.408163</td>\n",
              "    </tr>\n",
              "  </tbody>\n",
              "</table>\n",
              "</div>\n",
              "      <button class=\"colab-df-convert\" onclick=\"convertToInteractive('df-863d6302-1b55-49cc-9a22-cc85e7e604c0')\"\n",
              "              title=\"Convert this dataframe to an interactive table.\"\n",
              "              style=\"display:none;\">\n",
              "        \n",
              "  <svg xmlns=\"http://www.w3.org/2000/svg\" height=\"24px\"viewBox=\"0 0 24 24\"\n",
              "       width=\"24px\">\n",
              "    <path d=\"M0 0h24v24H0V0z\" fill=\"none\"/>\n",
              "    <path d=\"M18.56 5.44l.94 2.06.94-2.06 2.06-.94-2.06-.94-.94-2.06-.94 2.06-2.06.94zm-11 1L8.5 8.5l.94-2.06 2.06-.94-2.06-.94L8.5 2.5l-.94 2.06-2.06.94zm10 10l.94 2.06.94-2.06 2.06-.94-2.06-.94-.94-2.06-.94 2.06-2.06.94z\"/><path d=\"M17.41 7.96l-1.37-1.37c-.4-.4-.92-.59-1.43-.59-.52 0-1.04.2-1.43.59L10.3 9.45l-7.72 7.72c-.78.78-.78 2.05 0 2.83L4 21.41c.39.39.9.59 1.41.59.51 0 1.02-.2 1.41-.59l7.78-7.78 2.81-2.81c.8-.78.8-2.07 0-2.86zM5.41 20L4 18.59l7.72-7.72 1.47 1.35L5.41 20z\"/>\n",
              "  </svg>\n",
              "      </button>\n",
              "      \n",
              "  <style>\n",
              "    .colab-df-container {\n",
              "      display:flex;\n",
              "      flex-wrap:wrap;\n",
              "      gap: 12px;\n",
              "    }\n",
              "\n",
              "    .colab-df-convert {\n",
              "      background-color: #E8F0FE;\n",
              "      border: none;\n",
              "      border-radius: 50%;\n",
              "      cursor: pointer;\n",
              "      display: none;\n",
              "      fill: #1967D2;\n",
              "      height: 32px;\n",
              "      padding: 0 0 0 0;\n",
              "      width: 32px;\n",
              "    }\n",
              "\n",
              "    .colab-df-convert:hover {\n",
              "      background-color: #E2EBFA;\n",
              "      box-shadow: 0px 1px 2px rgba(60, 64, 67, 0.3), 0px 1px 3px 1px rgba(60, 64, 67, 0.15);\n",
              "      fill: #174EA6;\n",
              "    }\n",
              "\n",
              "    [theme=dark] .colab-df-convert {\n",
              "      background-color: #3B4455;\n",
              "      fill: #D2E3FC;\n",
              "    }\n",
              "\n",
              "    [theme=dark] .colab-df-convert:hover {\n",
              "      background-color: #434B5C;\n",
              "      box-shadow: 0px 1px 3px 1px rgba(0, 0, 0, 0.15);\n",
              "      filter: drop-shadow(0px 1px 2px rgba(0, 0, 0, 0.3));\n",
              "      fill: #FFFFFF;\n",
              "    }\n",
              "  </style>\n",
              "\n",
              "      <script>\n",
              "        const buttonEl =\n",
              "          document.querySelector('#df-863d6302-1b55-49cc-9a22-cc85e7e604c0 button.colab-df-convert');\n",
              "        buttonEl.style.display =\n",
              "          google.colab.kernel.accessAllowed ? 'block' : 'none';\n",
              "\n",
              "        async function convertToInteractive(key) {\n",
              "          const element = document.querySelector('#df-863d6302-1b55-49cc-9a22-cc85e7e604c0');\n",
              "          const dataTable =\n",
              "            await google.colab.kernel.invokeFunction('convertToInteractive',\n",
              "                                                     [key], {});\n",
              "          if (!dataTable) return;\n",
              "\n",
              "          const docLinkHtml = 'Like what you see? Visit the ' +\n",
              "            '<a target=\"_blank\" href=https://colab.research.google.com/notebooks/data_table.ipynb>data table notebook</a>'\n",
              "            + ' to learn more about interactive tables.';\n",
              "          element.innerHTML = '';\n",
              "          dataTable['output_type'] = 'display_data';\n",
              "          await google.colab.output.renderOutput(dataTable, element);\n",
              "          const docLink = document.createElement('div');\n",
              "          docLink.innerHTML = docLinkHtml;\n",
              "          element.appendChild(docLink);\n",
              "        }\n",
              "      </script>\n",
              "    </div>\n",
              "  </div>\n",
              "  "
            ]
          },
          "metadata": {},
          "execution_count": 6
        }
      ]
    },
    {
      "cell_type": "code",
      "source": [
        "Breng.describe()"
      ],
      "metadata": {
        "colab": {
          "base_uri": "https://localhost:8080/",
          "height": 300
        },
        "id": "74K0BeXE80Ck",
        "outputId": "f7fd76ff-6c2f-43f0-b239-ef76685212dd"
      },
      "execution_count": 7,
      "outputs": [
        {
          "output_type": "execute_result",
          "data": {
            "text/plain": [
              "          Forebr m        Cer m      rest m      Forebr n         Cer n  \\\n",
              "count   164.000000   164.000000  164.000000  1.640000e+02  1.640000e+02   \n",
              "mean     40.720029    10.974838    8.048534  4.695689e+08  2.707798e+09   \n",
              "std     245.585278    92.541363   45.858083  1.399907e+09  2.032093e+10   \n",
              "min       0.084000     0.020000    0.072000  5.080000e+06  1.574000e+07   \n",
              "25%       0.866750     0.217500    0.515750  5.104000e+07  1.294110e+08   \n",
              "50%       2.293000     0.481500    0.985500  1.469435e+08  2.333720e+08   \n",
              "75%       6.303750     1.181750    2.076500  4.372350e+08  4.828425e+08   \n",
              "max    2847.000000  1171.000000  564.000000  1.634000e+10  2.507000e+11   \n",
              "\n",
              "             Rest n        Body m       Fmr %       Cmr %       rmr %  \n",
              "count  1.640000e+02  1.640000e+02  164.000000  164.000000  164.000000  \n",
              "mean   6.210885e+07  4.345876e+04    0.603420    0.133042    0.263538  \n",
              "std    1.025463e+08  3.803571e+05    0.099656    0.036222    0.080056  \n",
              "min    4.001000e+06  5.400000e+00    0.371641    0.060055    0.078254  \n",
              "25%    2.070325e+07  1.182525e+02    0.522373    0.108239    0.205291  \n",
              "50%    3.387000e+07  4.720400e+02    0.609793    0.139400    0.261271  \n",
              "75%    6.188750e+07  1.495925e+03    0.676907    0.154418    0.326407  \n",
              "max    7.410000e+08  4.800000e+06    0.819318    0.289157    0.428928  "
            ],
            "text/html": [
              "\n",
              "  <div id=\"df-029918af-42c4-4ea2-a999-b3657f16f59d\">\n",
              "    <div class=\"colab-df-container\">\n",
              "      <div>\n",
              "<style scoped>\n",
              "    .dataframe tbody tr th:only-of-type {\n",
              "        vertical-align: middle;\n",
              "    }\n",
              "\n",
              "    .dataframe tbody tr th {\n",
              "        vertical-align: top;\n",
              "    }\n",
              "\n",
              "    .dataframe thead th {\n",
              "        text-align: right;\n",
              "    }\n",
              "</style>\n",
              "<table border=\"1\" class=\"dataframe\">\n",
              "  <thead>\n",
              "    <tr style=\"text-align: right;\">\n",
              "      <th></th>\n",
              "      <th>Forebr m</th>\n",
              "      <th>Cer m</th>\n",
              "      <th>rest m</th>\n",
              "      <th>Forebr n</th>\n",
              "      <th>Cer n</th>\n",
              "      <th>Rest n</th>\n",
              "      <th>Body m</th>\n",
              "      <th>Fmr %</th>\n",
              "      <th>Cmr %</th>\n",
              "      <th>rmr %</th>\n",
              "    </tr>\n",
              "  </thead>\n",
              "  <tbody>\n",
              "    <tr>\n",
              "      <th>count</th>\n",
              "      <td>164.000000</td>\n",
              "      <td>164.000000</td>\n",
              "      <td>164.000000</td>\n",
              "      <td>1.640000e+02</td>\n",
              "      <td>1.640000e+02</td>\n",
              "      <td>1.640000e+02</td>\n",
              "      <td>1.640000e+02</td>\n",
              "      <td>164.000000</td>\n",
              "      <td>164.000000</td>\n",
              "      <td>164.000000</td>\n",
              "    </tr>\n",
              "    <tr>\n",
              "      <th>mean</th>\n",
              "      <td>40.720029</td>\n",
              "      <td>10.974838</td>\n",
              "      <td>8.048534</td>\n",
              "      <td>4.695689e+08</td>\n",
              "      <td>2.707798e+09</td>\n",
              "      <td>6.210885e+07</td>\n",
              "      <td>4.345876e+04</td>\n",
              "      <td>0.603420</td>\n",
              "      <td>0.133042</td>\n",
              "      <td>0.263538</td>\n",
              "    </tr>\n",
              "    <tr>\n",
              "      <th>std</th>\n",
              "      <td>245.585278</td>\n",
              "      <td>92.541363</td>\n",
              "      <td>45.858083</td>\n",
              "      <td>1.399907e+09</td>\n",
              "      <td>2.032093e+10</td>\n",
              "      <td>1.025463e+08</td>\n",
              "      <td>3.803571e+05</td>\n",
              "      <td>0.099656</td>\n",
              "      <td>0.036222</td>\n",
              "      <td>0.080056</td>\n",
              "    </tr>\n",
              "    <tr>\n",
              "      <th>min</th>\n",
              "      <td>0.084000</td>\n",
              "      <td>0.020000</td>\n",
              "      <td>0.072000</td>\n",
              "      <td>5.080000e+06</td>\n",
              "      <td>1.574000e+07</td>\n",
              "      <td>4.001000e+06</td>\n",
              "      <td>5.400000e+00</td>\n",
              "      <td>0.371641</td>\n",
              "      <td>0.060055</td>\n",
              "      <td>0.078254</td>\n",
              "    </tr>\n",
              "    <tr>\n",
              "      <th>25%</th>\n",
              "      <td>0.866750</td>\n",
              "      <td>0.217500</td>\n",
              "      <td>0.515750</td>\n",
              "      <td>5.104000e+07</td>\n",
              "      <td>1.294110e+08</td>\n",
              "      <td>2.070325e+07</td>\n",
              "      <td>1.182525e+02</td>\n",
              "      <td>0.522373</td>\n",
              "      <td>0.108239</td>\n",
              "      <td>0.205291</td>\n",
              "    </tr>\n",
              "    <tr>\n",
              "      <th>50%</th>\n",
              "      <td>2.293000</td>\n",
              "      <td>0.481500</td>\n",
              "      <td>0.985500</td>\n",
              "      <td>1.469435e+08</td>\n",
              "      <td>2.333720e+08</td>\n",
              "      <td>3.387000e+07</td>\n",
              "      <td>4.720400e+02</td>\n",
              "      <td>0.609793</td>\n",
              "      <td>0.139400</td>\n",
              "      <td>0.261271</td>\n",
              "    </tr>\n",
              "    <tr>\n",
              "      <th>75%</th>\n",
              "      <td>6.303750</td>\n",
              "      <td>1.181750</td>\n",
              "      <td>2.076500</td>\n",
              "      <td>4.372350e+08</td>\n",
              "      <td>4.828425e+08</td>\n",
              "      <td>6.188750e+07</td>\n",
              "      <td>1.495925e+03</td>\n",
              "      <td>0.676907</td>\n",
              "      <td>0.154418</td>\n",
              "      <td>0.326407</td>\n",
              "    </tr>\n",
              "    <tr>\n",
              "      <th>max</th>\n",
              "      <td>2847.000000</td>\n",
              "      <td>1171.000000</td>\n",
              "      <td>564.000000</td>\n",
              "      <td>1.634000e+10</td>\n",
              "      <td>2.507000e+11</td>\n",
              "      <td>7.410000e+08</td>\n",
              "      <td>4.800000e+06</td>\n",
              "      <td>0.819318</td>\n",
              "      <td>0.289157</td>\n",
              "      <td>0.428928</td>\n",
              "    </tr>\n",
              "  </tbody>\n",
              "</table>\n",
              "</div>\n",
              "      <button class=\"colab-df-convert\" onclick=\"convertToInteractive('df-029918af-42c4-4ea2-a999-b3657f16f59d')\"\n",
              "              title=\"Convert this dataframe to an interactive table.\"\n",
              "              style=\"display:none;\">\n",
              "        \n",
              "  <svg xmlns=\"http://www.w3.org/2000/svg\" height=\"24px\"viewBox=\"0 0 24 24\"\n",
              "       width=\"24px\">\n",
              "    <path d=\"M0 0h24v24H0V0z\" fill=\"none\"/>\n",
              "    <path d=\"M18.56 5.44l.94 2.06.94-2.06 2.06-.94-2.06-.94-.94-2.06-.94 2.06-2.06.94zm-11 1L8.5 8.5l.94-2.06 2.06-.94-2.06-.94L8.5 2.5l-.94 2.06-2.06.94zm10 10l.94 2.06.94-2.06 2.06-.94-2.06-.94-.94-2.06-.94 2.06-2.06.94z\"/><path d=\"M17.41 7.96l-1.37-1.37c-.4-.4-.92-.59-1.43-.59-.52 0-1.04.2-1.43.59L10.3 9.45l-7.72 7.72c-.78.78-.78 2.05 0 2.83L4 21.41c.39.39.9.59 1.41.59.51 0 1.02-.2 1.41-.59l7.78-7.78 2.81-2.81c.8-.78.8-2.07 0-2.86zM5.41 20L4 18.59l7.72-7.72 1.47 1.35L5.41 20z\"/>\n",
              "  </svg>\n",
              "      </button>\n",
              "      \n",
              "  <style>\n",
              "    .colab-df-container {\n",
              "      display:flex;\n",
              "      flex-wrap:wrap;\n",
              "      gap: 12px;\n",
              "    }\n",
              "\n",
              "    .colab-df-convert {\n",
              "      background-color: #E8F0FE;\n",
              "      border: none;\n",
              "      border-radius: 50%;\n",
              "      cursor: pointer;\n",
              "      display: none;\n",
              "      fill: #1967D2;\n",
              "      height: 32px;\n",
              "      padding: 0 0 0 0;\n",
              "      width: 32px;\n",
              "    }\n",
              "\n",
              "    .colab-df-convert:hover {\n",
              "      background-color: #E2EBFA;\n",
              "      box-shadow: 0px 1px 2px rgba(60, 64, 67, 0.3), 0px 1px 3px 1px rgba(60, 64, 67, 0.15);\n",
              "      fill: #174EA6;\n",
              "    }\n",
              "\n",
              "    [theme=dark] .colab-df-convert {\n",
              "      background-color: #3B4455;\n",
              "      fill: #D2E3FC;\n",
              "    }\n",
              "\n",
              "    [theme=dark] .colab-df-convert:hover {\n",
              "      background-color: #434B5C;\n",
              "      box-shadow: 0px 1px 3px 1px rgba(0, 0, 0, 0.15);\n",
              "      filter: drop-shadow(0px 1px 2px rgba(0, 0, 0, 0.3));\n",
              "      fill: #FFFFFF;\n",
              "    }\n",
              "  </style>\n",
              "\n",
              "      <script>\n",
              "        const buttonEl =\n",
              "          document.querySelector('#df-029918af-42c4-4ea2-a999-b3657f16f59d button.colab-df-convert');\n",
              "        buttonEl.style.display =\n",
              "          google.colab.kernel.accessAllowed ? 'block' : 'none';\n",
              "\n",
              "        async function convertToInteractive(key) {\n",
              "          const element = document.querySelector('#df-029918af-42c4-4ea2-a999-b3657f16f59d');\n",
              "          const dataTable =\n",
              "            await google.colab.kernel.invokeFunction('convertToInteractive',\n",
              "                                                     [key], {});\n",
              "          if (!dataTable) return;\n",
              "\n",
              "          const docLinkHtml = 'Like what you see? Visit the ' +\n",
              "            '<a target=\"_blank\" href=https://colab.research.google.com/notebooks/data_table.ipynb>data table notebook</a>'\n",
              "            + ' to learn more about interactive tables.';\n",
              "          element.innerHTML = '';\n",
              "          dataTable['output_type'] = 'display_data';\n",
              "          await google.colab.output.renderOutput(dataTable, element);\n",
              "          const docLink = document.createElement('div');\n",
              "          docLink.innerHTML = docLinkHtml;\n",
              "          element.appendChild(docLink);\n",
              "        }\n",
              "      </script>\n",
              "    </div>\n",
              "  </div>\n",
              "  "
            ]
          },
          "metadata": {},
          "execution_count": 7
        }
      ]
    },
    {
      "cell_type": "code",
      "source": [
        "Breng.to_csv('/content/mammals and birds with feature engineering.csv')"
      ],
      "metadata": {
        "id": "XfZegFx6B3sj"
      },
      "execution_count": 8,
      "outputs": []
    },
    {
      "cell_type": "code",
      "source": [
        "X1 = Breng[[\"Forebr m\", \"Cer m\", \"rest m\", \"Body m\", \"Fmr %\", \"Cmr %\", \"rmr %\"]]\n",
        "Y1 = Breng[\"Forebr n\"]"
      ],
      "metadata": {
        "id": "ikCIuzll9E8b"
      },
      "execution_count": 9,
      "outputs": []
    },
    {
      "cell_type": "code",
      "source": [
        "x_train1, x_test1, y_train1, y_test1 = train_test_split(X1, Y1, test_size=0.25)"
      ],
      "metadata": {
        "id": "QC_0fz9I9fAs"
      },
      "execution_count": 10,
      "outputs": []
    },
    {
      "cell_type": "code",
      "source": [
        "GBR=GradientBoostingRegressor()\n",
        "GBR.fit(x_train1, y_train1)"
      ],
      "metadata": {
        "colab": {
          "base_uri": "https://localhost:8080/",
          "height": 75
        },
        "id": "yAcWSjW79qS7",
        "outputId": "367a646b-4edd-4e88-d5da-e3e1082e0021"
      },
      "execution_count": 11,
      "outputs": [
        {
          "output_type": "execute_result",
          "data": {
            "text/plain": [
              "GradientBoostingRegressor()"
            ],
            "text/html": [
              "<style>#sk-container-id-1 {color: black;background-color: white;}#sk-container-id-1 pre{padding: 0;}#sk-container-id-1 div.sk-toggleable {background-color: white;}#sk-container-id-1 label.sk-toggleable__label {cursor: pointer;display: block;width: 100%;margin-bottom: 0;padding: 0.3em;box-sizing: border-box;text-align: center;}#sk-container-id-1 label.sk-toggleable__label-arrow:before {content: \"▸\";float: left;margin-right: 0.25em;color: #696969;}#sk-container-id-1 label.sk-toggleable__label-arrow:hover:before {color: black;}#sk-container-id-1 div.sk-estimator:hover label.sk-toggleable__label-arrow:before {color: black;}#sk-container-id-1 div.sk-toggleable__content {max-height: 0;max-width: 0;overflow: hidden;text-align: left;background-color: #f0f8ff;}#sk-container-id-1 div.sk-toggleable__content pre {margin: 0.2em;color: black;border-radius: 0.25em;background-color: #f0f8ff;}#sk-container-id-1 input.sk-toggleable__control:checked~div.sk-toggleable__content {max-height: 200px;max-width: 100%;overflow: auto;}#sk-container-id-1 input.sk-toggleable__control:checked~label.sk-toggleable__label-arrow:before {content: \"▾\";}#sk-container-id-1 div.sk-estimator input.sk-toggleable__control:checked~label.sk-toggleable__label {background-color: #d4ebff;}#sk-container-id-1 div.sk-label input.sk-toggleable__control:checked~label.sk-toggleable__label {background-color: #d4ebff;}#sk-container-id-1 input.sk-hidden--visually {border: 0;clip: rect(1px 1px 1px 1px);clip: rect(1px, 1px, 1px, 1px);height: 1px;margin: -1px;overflow: hidden;padding: 0;position: absolute;width: 1px;}#sk-container-id-1 div.sk-estimator {font-family: monospace;background-color: #f0f8ff;border: 1px dotted black;border-radius: 0.25em;box-sizing: border-box;margin-bottom: 0.5em;}#sk-container-id-1 div.sk-estimator:hover {background-color: #d4ebff;}#sk-container-id-1 div.sk-parallel-item::after {content: \"\";width: 100%;border-bottom: 1px solid gray;flex-grow: 1;}#sk-container-id-1 div.sk-label:hover label.sk-toggleable__label {background-color: #d4ebff;}#sk-container-id-1 div.sk-serial::before {content: \"\";position: absolute;border-left: 1px solid gray;box-sizing: border-box;top: 0;bottom: 0;left: 50%;z-index: 0;}#sk-container-id-1 div.sk-serial {display: flex;flex-direction: column;align-items: center;background-color: white;padding-right: 0.2em;padding-left: 0.2em;position: relative;}#sk-container-id-1 div.sk-item {position: relative;z-index: 1;}#sk-container-id-1 div.sk-parallel {display: flex;align-items: stretch;justify-content: center;background-color: white;position: relative;}#sk-container-id-1 div.sk-item::before, #sk-container-id-1 div.sk-parallel-item::before {content: \"\";position: absolute;border-left: 1px solid gray;box-sizing: border-box;top: 0;bottom: 0;left: 50%;z-index: -1;}#sk-container-id-1 div.sk-parallel-item {display: flex;flex-direction: column;z-index: 1;position: relative;background-color: white;}#sk-container-id-1 div.sk-parallel-item:first-child::after {align-self: flex-end;width: 50%;}#sk-container-id-1 div.sk-parallel-item:last-child::after {align-self: flex-start;width: 50%;}#sk-container-id-1 div.sk-parallel-item:only-child::after {width: 0;}#sk-container-id-1 div.sk-dashed-wrapped {border: 1px dashed gray;margin: 0 0.4em 0.5em 0.4em;box-sizing: border-box;padding-bottom: 0.4em;background-color: white;}#sk-container-id-1 div.sk-label label {font-family: monospace;font-weight: bold;display: inline-block;line-height: 1.2em;}#sk-container-id-1 div.sk-label-container {text-align: center;}#sk-container-id-1 div.sk-container {/* jupyter's `normalize.less` sets `[hidden] { display: none; }` but bootstrap.min.css set `[hidden] { display: none !important; }` so we also need the `!important` here to be able to override the default hidden behavior on the sphinx rendered scikit-learn.org. See: https://github.com/scikit-learn/scikit-learn/issues/21755 */display: inline-block !important;position: relative;}#sk-container-id-1 div.sk-text-repr-fallback {display: none;}</style><div id=\"sk-container-id-1\" class=\"sk-top-container\"><div class=\"sk-text-repr-fallback\"><pre>GradientBoostingRegressor()</pre><b>In a Jupyter environment, please rerun this cell to show the HTML representation or trust the notebook. <br />On GitHub, the HTML representation is unable to render, please try loading this page with nbviewer.org.</b></div><div class=\"sk-container\" hidden><div class=\"sk-item\"><div class=\"sk-estimator sk-toggleable\"><input class=\"sk-toggleable__control sk-hidden--visually\" id=\"sk-estimator-id-1\" type=\"checkbox\" checked><label for=\"sk-estimator-id-1\" class=\"sk-toggleable__label sk-toggleable__label-arrow\">GradientBoostingRegressor</label><div class=\"sk-toggleable__content\"><pre>GradientBoostingRegressor()</pre></div></div></div></div></div>"
            ]
          },
          "metadata": {},
          "execution_count": 11
        }
      ]
    },
    {
      "cell_type": "code",
      "source": [
        "mean_squared_error(y_test1, GBR.predict(x_test1))"
      ],
      "metadata": {
        "colab": {
          "base_uri": "https://localhost:8080/"
        },
        "id": "yYDcT0Yi-CWY",
        "outputId": "bec12431-43f4-4482-bd30-256cd11a95d5"
      },
      "execution_count": 12,
      "outputs": [
        {
          "output_type": "execute_result",
          "data": {
            "text/plain": [
              "7.26720726309764e+16"
            ]
          },
          "metadata": {},
          "execution_count": 12
        }
      ]
    },
    {
      "cell_type": "code",
      "source": [
        "r2_score(y_test1, GBR.predict(x_test1))"
      ],
      "metadata": {
        "colab": {
          "base_uri": "https://localhost:8080/"
        },
        "id": "81gzMOoj-QBF",
        "outputId": "fef9f235-20aa-497c-e1b6-fb97a2570241"
      },
      "execution_count": 13,
      "outputs": [
        {
          "output_type": "execute_result",
          "data": {
            "text/plain": [
              "0.8156428205072532"
            ]
          },
          "metadata": {},
          "execution_count": 13
        }
      ]
    },
    {
      "cell_type": "code",
      "source": [
        "fig = plt.figure(figsize=(8, 6))\n",
        "\n",
        "feature_imp = pd.Series(GBR.feature_importances_, index=['Forebr m', 'Cer m', 'rest m', 'Body m',\n",
        "                                                         'Fmr %', 'Cmr %', 'rmr %']).sort_values(ascending=False)\n",
        "\n",
        "sns.barplot(x=feature_imp, y=feature_imp.index)\n",
        "plt.xlabel('Feature Importance Score')\n",
        "plt.ylabel('Features')\n",
        "plt.title(\"Visualizing Important Features\", pad=15, size=14)\n",
        "plt.savefig('Barplot.png')"
      ],
      "metadata": {
        "colab": {
          "base_uri": "https://localhost:8080/",
          "height": 578
        },
        "id": "BHVYoPwC-aPQ",
        "outputId": "835e3a85-2111-4d12-c4b2-fd7e4d3a902c"
      },
      "execution_count": 14,
      "outputs": [
        {
          "output_type": "display_data",
          "data": {
            "text/plain": [
              "<Figure size 800x600 with 1 Axes>"
            ],
            "image/png": "[encoded data removed]"
          },
          "metadata": {}
        }
      ]
    },
    {
      "cell_type": "code",
      "source": [
        "# Human(included in data)\n",
        "GBR.predict([[1200, 150, 120, 70000, 0.818, 0.102, 0.079]])"
      ],
      "metadata": {
        "colab": {
          "base_uri": "https://localhost:8080/"
        },
        "id": "du1Qe8jN_Ib0",
        "outputId": "9e90704a-b5f4-421d-be16-8e8ef6283258"
      },
      "execution_count": 15,
      "outputs": [
        {
          "output_type": "stream",
          "name": "stderr",
          "text": [
            "/usr/local/lib/python3.10/dist-packages/sklearn/base.py:439: UserWarning: X does not have valid feature names, but GradientBoostingRegressor was fitted with feature names\n",
            "  warnings.warn(\n"
          ]
        },
        {
          "output_type": "execute_result",
          "data": {
            "text/plain": [
              "array([1.63097863e+10])"
            ]
          },
          "metadata": {},
          "execution_count": 15
        }
      ]
    },
    {
      "cell_type": "code",
      "source": [
        "# Killer whale\n",
        "GBR.predict([[5270, 753, 192, 3987500, 0.847, 0.121, 0.03]])"
      ],
      "metadata": {
        "colab": {
          "base_uri": "https://localhost:8080/"
        },
        "id": "fvfKvZax_sdi",
        "outputId": "02e755e1-eae3-4f5c-f230-3877e3d1cf95"
      },
      "execution_count": 16,
      "outputs": [
        {
          "output_type": "stream",
          "name": "stderr",
          "text": [
            "/usr/local/lib/python3.10/dist-packages/sklearn/base.py:439: UserWarning: X does not have valid feature names, but GradientBoostingRegressor was fitted with feature names\n",
            "  warnings.warn(\n"
          ]
        },
        {
          "output_type": "execute_result",
          "data": {
            "text/plain": [
              "array([1.59956777e+10])"
            ]
          },
          "metadata": {},
          "execution_count": 16
        }
      ]
    },
    {
      "cell_type": "code",
      "source": [
        "# Orangutan\n",
        "GBR.predict([[414, 35, 40, 64475, 0.846, 0.071, 0.081]])"
      ],
      "metadata": {
        "colab": {
          "base_uri": "https://localhost:8080/"
        },
        "id": "0LOD-H4iAeYF",
        "outputId": "751ee912-33e2-43bb-fb90-76433828ac1e"
      },
      "execution_count": 17,
      "outputs": [
        {
          "output_type": "stream",
          "name": "stderr",
          "text": [
            "/usr/local/lib/python3.10/dist-packages/sklearn/base.py:439: UserWarning: X does not have valid feature names, but GradientBoostingRegressor was fitted with feature names\n",
            "  warnings.warn(\n"
          ]
        },
        {
          "output_type": "execute_result",
          "data": {
            "text/plain": [
              "array([1.48190073e+10])"
            ]
          },
          "metadata": {},
          "execution_count": 17
        }
      ]
    },
    {
      "cell_type": "code",
      "source": [
        "# Short-finned pilot whale\n",
        "GBR.predict([[2431, 403, 91, 2200000, 0.831, 0.137, 0.031]])"
      ],
      "metadata": {
        "colab": {
          "base_uri": "https://localhost:8080/"
        },
        "id": "Xe9EUiAZA7SM",
        "outputId": "ad12c4ce-bfe4-4c67-ca4d-bb0a56742f95"
      },
      "execution_count": 18,
      "outputs": [
        {
          "output_type": "stream",
          "name": "stderr",
          "text": [
            "/usr/local/lib/python3.10/dist-packages/sklearn/base.py:439: UserWarning: X does not have valid feature names, but GradientBoostingRegressor was fitted with feature names\n",
            "  warnings.warn(\n"
          ]
        },
        {
          "output_type": "execute_result",
          "data": {
            "text/plain": [
              "array([1.56977361e+10])"
            ]
          },
          "metadata": {},
          "execution_count": 18
        }
      ]
    },
    {
      "cell_type": "code",
      "source": [
        "# random\n",
        "GBR.predict([[20, 4, 6, 2200, 0.666, 0.133, 0.2]])"
      ],
      "metadata": {
        "colab": {
          "base_uri": "https://localhost:8080/"
        },
        "id": "1wgJ0zMGCyXV",
        "outputId": "b4097202-f6a7-4c00-8562-3f1f9e7adf7e"
      },
      "execution_count": 19,
      "outputs": [
        {
          "output_type": "stream",
          "name": "stderr",
          "text": [
            "/usr/local/lib/python3.10/dist-packages/sklearn/base.py:439: UserWarning: X does not have valid feature names, but GradientBoostingRegressor was fitted with feature names\n",
            "  warnings.warn(\n"
          ]
        },
        {
          "output_type": "execute_result",
          "data": {
            "text/plain": [
              "array([4.13363868e+08])"
            ]
          },
          "metadata": {},
          "execution_count": 19
        }
      ]
    }
  ]
}