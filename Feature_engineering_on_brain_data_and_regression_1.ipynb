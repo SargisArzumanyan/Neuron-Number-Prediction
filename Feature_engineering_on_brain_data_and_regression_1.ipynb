{
  "nbformat": 4,
  "nbformat_minor": 0,
  "metadata": {
    "colab": {
      "provenance": []
    },
    "kernelspec": {
      "name": "python3",
      "display_name": "Python 3"
    },
    "language_info": {
      "name": "python"
    }
  },
  "cells": [
    {
      "cell_type": "code",
      "execution_count": 35,
      "metadata": {
        "id": "wYDz-fkz5JJy"
      },
      "outputs": [],
      "source": [
        "import pandas as pd\n",
        "import numpy as np\n",
        "from sklearn.model_selection import train_test_split\n",
        "from sklearn.metrics import mean_squared_error\n",
        "from sklearn.metrics import r2_score\n",
        "from sklearn.ensemble import GradientBoostingRegressor\n",
        "import matplotlib.pyplot as plt\n",
        "import seaborn as sns"
      ]
    },
    {
      "cell_type": "code",
      "source": [
        "Brain = pd.read_csv(\"mammals.csv\")\n",
        "Brain = Brain.drop(['Unnamed: 0'], axis=1)\n",
        "Brain.head(8)"
      ],
      "metadata": {
        "colab": {
          "base_uri": "https://localhost:8080/",
          "height": 300
        },
        "id": "i4x0cjFm6HA8",
        "outputId": "b4c1b9b9-c18c-4619-ab22-71e4fe5b4520"
      },
      "execution_count": 36,
      "outputs": [
        {
          "output_type": "execute_result",
          "data": {
            "text/plain": [
              "                      Animal  Forebr m   Cer m  rest m    Forebr n  \\\n",
              "0  African sheath-tailed bat    0.0899  0.0540   0.098   5080000.0   \n",
              "1     Little free-tailed bat    0.0840  0.0360   0.084   5632000.0   \n",
              "2         Rufous trident bat    0.0930  0.0720   0.084   6039000.0   \n",
              "3       Common bent-wing bat    0.0858  0.0485   0.086   6116000.0   \n",
              "4             Naked mole-rat    0.1840  0.0480   0.160   6150000.0   \n",
              "5  Commerson's roundleaf bat    0.2430  0.1070   0.237   7877000.0   \n",
              "6                Smoky shrew    0.0840  0.0200   0.072   9730000.0   \n",
              "7            Heart-nosed bat    0.2570  0.1030   0.201  10221000.0   \n",
              "\n",
              "        Cer n     Rest n  Body m  \n",
              "0  47984000.0  5514000.0    11.5  \n",
              "1  25324000.0  4001000.0     5.4  \n",
              "2  59651000.0  4072000.0    13.7  \n",
              "3  44447000.0  5094000.0    11.6  \n",
              "4  15740000.0  4980000.0    35.3  \n",
              "5  51875000.0  6965000.0   101.9  \n",
              "6  20870000.0  5560000.0     7.5  \n",
              "7  63792000.0  7317000.0    26.0  "
            ],
            "text/html": [
              "\n",
              "  <div id=\"df-83cc97c2-7f80-4e47-8b41-88675f768675\">\n",
              "    <div class=\"colab-df-container\">\n",
              "      <div>\n",
              "<style scoped>\n",
              "    .dataframe tbody tr th:only-of-type {\n",
              "        vertical-align: middle;\n",
              "    }\n",
              "\n",
              "    .dataframe tbody tr th {\n",
              "        vertical-align: top;\n",
              "    }\n",
              "\n",
              "    .dataframe thead th {\n",
              "        text-align: right;\n",
              "    }\n",
              "</style>\n",
              "<table border=\"1\" class=\"dataframe\">\n",
              "  <thead>\n",
              "    <tr style=\"text-align: right;\">\n",
              "      <th></th>\n",
              "      <th>Animal</th>\n",
              "      <th>Forebr m</th>\n",
              "      <th>Cer m</th>\n",
              "      <th>rest m</th>\n",
              "      <th>Forebr n</th>\n",
              "      <th>Cer n</th>\n",
              "      <th>Rest n</th>\n",
              "      <th>Body m</th>\n",
              "    </tr>\n",
              "  </thead>\n",
              "  <tbody>\n",
              "    <tr>\n",
              "      <th>0</th>\n",
              "      <td>African sheath-tailed bat</td>\n",
              "      <td>0.0899</td>\n",
              "      <td>0.0540</td>\n",
              "      <td>0.098</td>\n",
              "      <td>5080000.0</td>\n",
              "      <td>47984000.0</td>\n",
              "      <td>5514000.0</td>\n",
              "      <td>11.5</td>\n",
              "    </tr>\n",
              "    <tr>\n",
              "      <th>1</th>\n",
              "      <td>Little free-tailed bat</td>\n",
              "      <td>0.0840</td>\n",
              "      <td>0.0360</td>\n",
              "      <td>0.084</td>\n",
              "      <td>5632000.0</td>\n",
              "      <td>25324000.0</td>\n",
              "      <td>4001000.0</td>\n",
              "      <td>5.4</td>\n",
              "    </tr>\n",
              "    <tr>\n",
              "      <th>2</th>\n",
              "      <td>Rufous trident bat</td>\n",
              "      <td>0.0930</td>\n",
              "      <td>0.0720</td>\n",
              "      <td>0.084</td>\n",
              "      <td>6039000.0</td>\n",
              "      <td>59651000.0</td>\n",
              "      <td>4072000.0</td>\n",
              "      <td>13.7</td>\n",
              "    </tr>\n",
              "    <tr>\n",
              "      <th>3</th>\n",
              "      <td>Common bent-wing bat</td>\n",
              "      <td>0.0858</td>\n",
              "      <td>0.0485</td>\n",
              "      <td>0.086</td>\n",
              "      <td>6116000.0</td>\n",
              "      <td>44447000.0</td>\n",
              "      <td>5094000.0</td>\n",
              "      <td>11.6</td>\n",
              "    </tr>\n",
              "    <tr>\n",
              "      <th>4</th>\n",
              "      <td>Naked mole-rat</td>\n",
              "      <td>0.1840</td>\n",
              "      <td>0.0480</td>\n",
              "      <td>0.160</td>\n",
              "      <td>6150000.0</td>\n",
              "      <td>15740000.0</td>\n",
              "      <td>4980000.0</td>\n",
              "      <td>35.3</td>\n",
              "    </tr>\n",
              "    <tr>\n",
              "      <th>5</th>\n",
              "      <td>Commerson's roundleaf bat</td>\n",
              "      <td>0.2430</td>\n",
              "      <td>0.1070</td>\n",
              "      <td>0.237</td>\n",
              "      <td>7877000.0</td>\n",
              "      <td>51875000.0</td>\n",
              "      <td>6965000.0</td>\n",
              "      <td>101.9</td>\n",
              "    </tr>\n",
              "    <tr>\n",
              "      <th>6</th>\n",
              "      <td>Smoky shrew</td>\n",
              "      <td>0.0840</td>\n",
              "      <td>0.0200</td>\n",
              "      <td>0.072</td>\n",
              "      <td>9730000.0</td>\n",
              "      <td>20870000.0</td>\n",
              "      <td>5560000.0</td>\n",
              "      <td>7.5</td>\n",
              "    </tr>\n",
              "    <tr>\n",
              "      <th>7</th>\n",
              "      <td>Heart-nosed bat</td>\n",
              "      <td>0.2570</td>\n",
              "      <td>0.1030</td>\n",
              "      <td>0.201</td>\n",
              "      <td>10221000.0</td>\n",
              "      <td>63792000.0</td>\n",
              "      <td>7317000.0</td>\n",
              "      <td>26.0</td>\n",
              "    </tr>\n",
              "  </tbody>\n",
              "</table>\n",
              "</div>\n",
              "      <button class=\"colab-df-convert\" onclick=\"convertToInteractive('df-83cc97c2-7f80-4e47-8b41-88675f768675')\"\n",
              "              title=\"Convert this dataframe to an interactive table.\"\n",
              "              style=\"display:none;\">\n",
              "        \n",
              "  <svg xmlns=\"http://www.w3.org/2000/svg\" height=\"24px\"viewBox=\"0 0 24 24\"\n",
              "       width=\"24px\">\n",
              "    <path d=\"M0 0h24v24H0V0z\" fill=\"none\"/>\n",
              "    <path d=\"M18.56 5.44l.94 2.06.94-2.06 2.06-.94-2.06-.94-.94-2.06-.94 2.06-2.06.94zm-11 1L8.5 8.5l.94-2.06 2.06-.94-2.06-.94L8.5 2.5l-.94 2.06-2.06.94zm10 10l.94 2.06.94-2.06 2.06-.94-2.06-.94-.94-2.06-.94 2.06-2.06.94z\"/><path d=\"M17.41 7.96l-1.37-1.37c-.4-.4-.92-.59-1.43-.59-.52 0-1.04.2-1.43.59L10.3 9.45l-7.72 7.72c-.78.78-.78 2.05 0 2.83L4 21.41c.39.39.9.59 1.41.59.51 0 1.02-.2 1.41-.59l7.78-7.78 2.81-2.81c.8-.78.8-2.07 0-2.86zM5.41 20L4 18.59l7.72-7.72 1.47 1.35L5.41 20z\"/>\n",
              "  </svg>\n",
              "      </button>\n",
              "      \n",
              "  <style>\n",
              "    .colab-df-container {\n",
              "      display:flex;\n",
              "      flex-wrap:wrap;\n",
              "      gap: 12px;\n",
              "    }\n",
              "\n",
              "    .colab-df-convert {\n",
              "      background-color: #E8F0FE;\n",
              "      border: none;\n",
              "      border-radius: 50%;\n",
              "      cursor: pointer;\n",
              "      display: none;\n",
              "      fill: #1967D2;\n",
              "      height: 32px;\n",
              "      padding: 0 0 0 0;\n",
              "      width: 32px;\n",
              "    }\n",
              "\n",
              "    .colab-df-convert:hover {\n",
              "      background-color: #E2EBFA;\n",
              "      box-shadow: 0px 1px 2px rgba(60, 64, 67, 0.3), 0px 1px 3px 1px rgba(60, 64, 67, 0.15);\n",
              "      fill: #174EA6;\n",
              "    }\n",
              "\n",
              "    [theme=dark] .colab-df-convert {\n",
              "      background-color: #3B4455;\n",
              "      fill: #D2E3FC;\n",
              "    }\n",
              "\n",
              "    [theme=dark] .colab-df-convert:hover {\n",
              "      background-color: #434B5C;\n",
              "      box-shadow: 0px 1px 3px 1px rgba(0, 0, 0, 0.15);\n",
              "      filter: drop-shadow(0px 1px 2px rgba(0, 0, 0, 0.3));\n",
              "      fill: #FFFFFF;\n",
              "    }\n",
              "  </style>\n",
              "\n",
              "      <script>\n",
              "        const buttonEl =\n",
              "          document.querySelector('#df-83cc97c2-7f80-4e47-8b41-88675f768675 button.colab-df-convert');\n",
              "        buttonEl.style.display =\n",
              "          google.colab.kernel.accessAllowed ? 'block' : 'none';\n",
              "\n",
              "        async function convertToInteractive(key) {\n",
              "          const element = document.querySelector('#df-83cc97c2-7f80-4e47-8b41-88675f768675');\n",
              "          const dataTable =\n",
              "            await google.colab.kernel.invokeFunction('convertToInteractive',\n",
              "                                                     [key], {});\n",
              "          if (!dataTable) return;\n",
              "\n",
              "          const docLinkHtml = 'Like what you see? Visit the ' +\n",
              "            '<a target=\"_blank\" href=https://colab.research.google.com/notebooks/data_table.ipynb>data table notebook</a>'\n",
              "            + ' to learn more about interactive tables.';\n",
              "          element.innerHTML = '';\n",
              "          dataTable['output_type'] = 'display_data';\n",
              "          await google.colab.output.renderOutput(dataTable, element);\n",
              "          const docLink = document.createElement('div');\n",
              "          docLink.innerHTML = docLinkHtml;\n",
              "          element.appendChild(docLink);\n",
              "        }\n",
              "      </script>\n",
              "    </div>\n",
              "  </div>\n",
              "  "
            ]
          },
          "metadata": {},
          "execution_count": 36
        }
      ]
    },
    {
      "cell_type": "code",
      "source": [
        "Brain['Fmr %'] = Brain['Forebr m']/(Brain['Forebr m']+Brain['Cer m']+Brain['rest m'])\n",
        "Brain['Cmr %'] = Brain['Cer m']/(Brain['Forebr m']+Brain['Cer m']+Brain['rest m'])\n",
        "Brain['rmr %'] = Brain['rest m']/(Brain['Forebr m']+Brain['Cer m']+Brain['rest m'])\n",
        "Breng = Brain\n",
        "Breng.head()"
      ],
      "metadata": {
        "colab": {
          "base_uri": "https://localhost:8080/",
          "height": 206
        },
        "id": "0fMFmYtJ6nkm",
        "outputId": "2998b6db-2d9b-4b23-a04a-e9cb754fc9ea"
      },
      "execution_count": 37,
      "outputs": [
        {
          "output_type": "execute_result",
          "data": {
            "text/plain": [
              "                      Animal  Forebr m   Cer m  rest m   Forebr n       Cer n  \\\n",
              "0  African sheath-tailed bat    0.0899  0.0540   0.098  5080000.0  47984000.0   \n",
              "1     Little free-tailed bat    0.0840  0.0360   0.084  5632000.0  25324000.0   \n",
              "2         Rufous trident bat    0.0930  0.0720   0.084  6039000.0  59651000.0   \n",
              "3       Common bent-wing bat    0.0858  0.0485   0.086  6116000.0  44447000.0   \n",
              "4             Naked mole-rat    0.1840  0.0480   0.160  6150000.0  15740000.0   \n",
              "\n",
              "      Rest n  Body m     Fmr %     Cmr %     rmr %  \n",
              "0  5514000.0    11.5  0.371641  0.223233  0.405126  \n",
              "1  4001000.0     5.4  0.411765  0.176471  0.411765  \n",
              "2  4072000.0    13.7  0.373494  0.289157  0.337349  \n",
              "3  5094000.0    11.6  0.389469  0.220154  0.390377  \n",
              "4  4980000.0    35.3  0.469388  0.122449  0.408163  "
            ],
            "text/html": [
              "\n",
              "  <div id=\"df-148c38aa-3561-4d4c-9706-d09a540097e7\">\n",
              "    <div class=\"colab-df-container\">\n",
              "      <div>\n",
              "<style scoped>\n",
              "    .dataframe tbody tr th:only-of-type {\n",
              "        vertical-align: middle;\n",
              "    }\n",
              "\n",
              "    .dataframe tbody tr th {\n",
              "        vertical-align: top;\n",
              "    }\n",
              "\n",
              "    .dataframe thead th {\n",
              "        text-align: right;\n",
              "    }\n",
              "</style>\n",
              "<table border=\"1\" class=\"dataframe\">\n",
              "  <thead>\n",
              "    <tr style=\"text-align: right;\">\n",
              "      <th></th>\n",
              "      <th>Animal</th>\n",
              "      <th>Forebr m</th>\n",
              "      <th>Cer m</th>\n",
              "      <th>rest m</th>\n",
              "      <th>Forebr n</th>\n",
              "      <th>Cer n</th>\n",
              "      <th>Rest n</th>\n",
              "      <th>Body m</th>\n",
              "      <th>Fmr %</th>\n",
              "      <th>Cmr %</th>\n",
              "      <th>rmr %</th>\n",
              "    </tr>\n",
              "  </thead>\n",
              "  <tbody>\n",
              "    <tr>\n",
              "      <th>0</th>\n",
              "      <td>African sheath-tailed bat</td>\n",
              "      <td>0.0899</td>\n",
              "      <td>0.0540</td>\n",
              "      <td>0.098</td>\n",
              "      <td>5080000.0</td>\n",
              "      <td>47984000.0</td>\n",
              "      <td>5514000.0</td>\n",
              "      <td>11.5</td>\n",
              "      <td>0.371641</td>\n",
              "      <td>0.223233</td>\n",
              "      <td>0.405126</td>\n",
              "    </tr>\n",
              "    <tr>\n",
              "      <th>1</th>\n",
              "      <td>Little free-tailed bat</td>\n",
              "      <td>0.0840</td>\n",
              "      <td>0.0360</td>\n",
              "      <td>0.084</td>\n",
              "      <td>5632000.0</td>\n",
              "      <td>25324000.0</td>\n",
              "      <td>4001000.0</td>\n",
              "      <td>5.4</td>\n",
              "      <td>0.411765</td>\n",
              "      <td>0.176471</td>\n",
              "      <td>0.411765</td>\n",
              "    </tr>\n",
              "    <tr>\n",
              "      <th>2</th>\n",
              "      <td>Rufous trident bat</td>\n",
              "      <td>0.0930</td>\n",
              "      <td>0.0720</td>\n",
              "      <td>0.084</td>\n",
              "      <td>6039000.0</td>\n",
              "      <td>59651000.0</td>\n",
              "      <td>4072000.0</td>\n",
              "      <td>13.7</td>\n",
              "      <td>0.373494</td>\n",
              "      <td>0.289157</td>\n",
              "      <td>0.337349</td>\n",
              "    </tr>\n",
              "    <tr>\n",
              "      <th>3</th>\n",
              "      <td>Common bent-wing bat</td>\n",
              "      <td>0.0858</td>\n",
              "      <td>0.0485</td>\n",
              "      <td>0.086</td>\n",
              "      <td>6116000.0</td>\n",
              "      <td>44447000.0</td>\n",
              "      <td>5094000.0</td>\n",
              "      <td>11.6</td>\n",
              "      <td>0.389469</td>\n",
              "      <td>0.220154</td>\n",
              "      <td>0.390377</td>\n",
              "    </tr>\n",
              "    <tr>\n",
              "      <th>4</th>\n",
              "      <td>Naked mole-rat</td>\n",
              "      <td>0.1840</td>\n",
              "      <td>0.0480</td>\n",
              "      <td>0.160</td>\n",
              "      <td>6150000.0</td>\n",
              "      <td>15740000.0</td>\n",
              "      <td>4980000.0</td>\n",
              "      <td>35.3</td>\n",
              "      <td>0.469388</td>\n",
              "      <td>0.122449</td>\n",
              "      <td>0.408163</td>\n",
              "    </tr>\n",
              "  </tbody>\n",
              "</table>\n",
              "</div>\n",
              "      <button class=\"colab-df-convert\" onclick=\"convertToInteractive('df-148c38aa-3561-4d4c-9706-d09a540097e7')\"\n",
              "              title=\"Convert this dataframe to an interactive table.\"\n",
              "              style=\"display:none;\">\n",
              "        \n",
              "  <svg xmlns=\"http://www.w3.org/2000/svg\" height=\"24px\"viewBox=\"0 0 24 24\"\n",
              "       width=\"24px\">\n",
              "    <path d=\"M0 0h24v24H0V0z\" fill=\"none\"/>\n",
              "    <path d=\"M18.56 5.44l.94 2.06.94-2.06 2.06-.94-2.06-.94-.94-2.06-.94 2.06-2.06.94zm-11 1L8.5 8.5l.94-2.06 2.06-.94-2.06-.94L8.5 2.5l-.94 2.06-2.06.94zm10 10l.94 2.06.94-2.06 2.06-.94-2.06-.94-.94-2.06-.94 2.06-2.06.94z\"/><path d=\"M17.41 7.96l-1.37-1.37c-.4-.4-.92-.59-1.43-.59-.52 0-1.04.2-1.43.59L10.3 9.45l-7.72 7.72c-.78.78-.78 2.05 0 2.83L4 21.41c.39.39.9.59 1.41.59.51 0 1.02-.2 1.41-.59l7.78-7.78 2.81-2.81c.8-.78.8-2.07 0-2.86zM5.41 20L4 18.59l7.72-7.72 1.47 1.35L5.41 20z\"/>\n",
              "  </svg>\n",
              "      </button>\n",
              "      \n",
              "  <style>\n",
              "    .colab-df-container {\n",
              "      display:flex;\n",
              "      flex-wrap:wrap;\n",
              "      gap: 12px;\n",
              "    }\n",
              "\n",
              "    .colab-df-convert {\n",
              "      background-color: #E8F0FE;\n",
              "      border: none;\n",
              "      border-radius: 50%;\n",
              "      cursor: pointer;\n",
              "      display: none;\n",
              "      fill: #1967D2;\n",
              "      height: 32px;\n",
              "      padding: 0 0 0 0;\n",
              "      width: 32px;\n",
              "    }\n",
              "\n",
              "    .colab-df-convert:hover {\n",
              "      background-color: #E2EBFA;\n",
              "      box-shadow: 0px 1px 2px rgba(60, 64, 67, 0.3), 0px 1px 3px 1px rgba(60, 64, 67, 0.15);\n",
              "      fill: #174EA6;\n",
              "    }\n",
              "\n",
              "    [theme=dark] .colab-df-convert {\n",
              "      background-color: #3B4455;\n",
              "      fill: #D2E3FC;\n",
              "    }\n",
              "\n",
              "    [theme=dark] .colab-df-convert:hover {\n",
              "      background-color: #434B5C;\n",
              "      box-shadow: 0px 1px 3px 1px rgba(0, 0, 0, 0.15);\n",
              "      filter: drop-shadow(0px 1px 2px rgba(0, 0, 0, 0.3));\n",
              "      fill: #FFFFFF;\n",
              "    }\n",
              "  </style>\n",
              "\n",
              "      <script>\n",
              "        const buttonEl =\n",
              "          document.querySelector('#df-148c38aa-3561-4d4c-9706-d09a540097e7 button.colab-df-convert');\n",
              "        buttonEl.style.display =\n",
              "          google.colab.kernel.accessAllowed ? 'block' : 'none';\n",
              "\n",
              "        async function convertToInteractive(key) {\n",
              "          const element = document.querySelector('#df-148c38aa-3561-4d4c-9706-d09a540097e7');\n",
              "          const dataTable =\n",
              "            await google.colab.kernel.invokeFunction('convertToInteractive',\n",
              "                                                     [key], {});\n",
              "          if (!dataTable) return;\n",
              "\n",
              "          const docLinkHtml = 'Like what you see? Visit the ' +\n",
              "            '<a target=\"_blank\" href=https://colab.research.google.com/notebooks/data_table.ipynb>data table notebook</a>'\n",
              "            + ' to learn more about interactive tables.';\n",
              "          element.innerHTML = '';\n",
              "          dataTable['output_type'] = 'display_data';\n",
              "          await google.colab.output.renderOutput(dataTable, element);\n",
              "          const docLink = document.createElement('div');\n",
              "          docLink.innerHTML = docLinkHtml;\n",
              "          element.appendChild(docLink);\n",
              "        }\n",
              "      </script>\n",
              "    </div>\n",
              "  </div>\n",
              "  "
            ]
          },
          "metadata": {},
          "execution_count": 37
        }
      ]
    },
    {
      "cell_type": "code",
      "source": [
        "Breng.describe()"
      ],
      "metadata": {
        "colab": {
          "base_uri": "https://localhost:8080/",
          "height": 300
        },
        "id": "74K0BeXE80Ck",
        "outputId": "692d2c04-6b00-4889-aa7d-6ffb7391403f"
      },
      "execution_count": 38,
      "outputs": [
        {
          "output_type": "execute_result",
          "data": {
            "text/plain": [
              "          Forebr m        Cer m      rest m      Forebr n         Cer n  \\\n",
              "count    55.000000    55.000000   55.000000  5.500000e+01  5.500000e+01   \n",
              "mean    113.612976    31.254991   21.333309  7.713805e+08  7.466985e+09   \n",
              "std     416.957124   158.801420   77.924253  2.343499e+09  3.480849e+10   \n",
              "min       0.084000     0.020000    0.072000  5.080000e+06  1.574000e+07   \n",
              "25%       0.437500     0.132500    0.272500  1.641500e+07  8.911250e+07   \n",
              "50%       2.730000     0.730000    1.386000  6.039000e+07  3.157400e+08   \n",
              "75%      48.224500     6.190000    8.817000  5.115950e+08  2.147500e+09   \n",
              "max    2847.000000  1171.000000  564.000000  1.634000e+10  2.507000e+11   \n",
              "\n",
              "             Rest n        Body m      Fmr %      Cmr %      rmr %  \n",
              "count  5.500000e+01  5.500000e+01  55.000000  55.000000  55.000000  \n",
              "mean   6.534607e+07  1.220254e+05   0.589806   0.140776   0.269418  \n",
              "std    1.362693e+08  6.531704e+05   0.125387   0.042625   0.103243  \n",
              "min    4.001000e+06  5.400000e+00   0.371641   0.086622   0.078254  \n",
              "25%    9.548000e+06  6.365000e+01   0.489618   0.110197   0.175220  \n",
              "50%    2.247000e+07  5.330000e+02   0.565217   0.136761   0.290676  \n",
              "75%    6.548500e+07  7.495000e+03   0.694443   0.157668   0.354284  \n",
              "max    7.410000e+08  4.800000e+06   0.819318   0.289157   0.428928  "
            ],
            "text/html": [
              "\n",
              "  <div id=\"df-d90b9eb3-acf9-4b80-ad36-08e1a49bbb54\">\n",
              "    <div class=\"colab-df-container\">\n",
              "      <div>\n",
              "<style scoped>\n",
              "    .dataframe tbody tr th:only-of-type {\n",
              "        vertical-align: middle;\n",
              "    }\n",
              "\n",
              "    .dataframe tbody tr th {\n",
              "        vertical-align: top;\n",
              "    }\n",
              "\n",
              "    .dataframe thead th {\n",
              "        text-align: right;\n",
              "    }\n",
              "</style>\n",
              "<table border=\"1\" class=\"dataframe\">\n",
              "  <thead>\n",
              "    <tr style=\"text-align: right;\">\n",
              "      <th></th>\n",
              "      <th>Forebr m</th>\n",
              "      <th>Cer m</th>\n",
              "      <th>rest m</th>\n",
              "      <th>Forebr n</th>\n",
              "      <th>Cer n</th>\n",
              "      <th>Rest n</th>\n",
              "      <th>Body m</th>\n",
              "      <th>Fmr %</th>\n",
              "      <th>Cmr %</th>\n",
              "      <th>rmr %</th>\n",
              "    </tr>\n",
              "  </thead>\n",
              "  <tbody>\n",
              "    <tr>\n",
              "      <th>count</th>\n",
              "      <td>55.000000</td>\n",
              "      <td>55.000000</td>\n",
              "      <td>55.000000</td>\n",
              "      <td>5.500000e+01</td>\n",
              "      <td>5.500000e+01</td>\n",
              "      <td>5.500000e+01</td>\n",
              "      <td>5.500000e+01</td>\n",
              "      <td>55.000000</td>\n",
              "      <td>55.000000</td>\n",
              "      <td>55.000000</td>\n",
              "    </tr>\n",
              "    <tr>\n",
              "      <th>mean</th>\n",
              "      <td>113.612976</td>\n",
              "      <td>31.254991</td>\n",
              "      <td>21.333309</td>\n",
              "      <td>7.713805e+08</td>\n",
              "      <td>7.466985e+09</td>\n",
              "      <td>6.534607e+07</td>\n",
              "      <td>1.220254e+05</td>\n",
              "      <td>0.589806</td>\n",
              "      <td>0.140776</td>\n",
              "      <td>0.269418</td>\n",
              "    </tr>\n",
              "    <tr>\n",
              "      <th>std</th>\n",
              "      <td>416.957124</td>\n",
              "      <td>158.801420</td>\n",
              "      <td>77.924253</td>\n",
              "      <td>2.343499e+09</td>\n",
              "      <td>3.480849e+10</td>\n",
              "      <td>1.362693e+08</td>\n",
              "      <td>6.531704e+05</td>\n",
              "      <td>0.125387</td>\n",
              "      <td>0.042625</td>\n",
              "      <td>0.103243</td>\n",
              "    </tr>\n",
              "    <tr>\n",
              "      <th>min</th>\n",
              "      <td>0.084000</td>\n",
              "      <td>0.020000</td>\n",
              "      <td>0.072000</td>\n",
              "      <td>5.080000e+06</td>\n",
              "      <td>1.574000e+07</td>\n",
              "      <td>4.001000e+06</td>\n",
              "      <td>5.400000e+00</td>\n",
              "      <td>0.371641</td>\n",
              "      <td>0.086622</td>\n",
              "      <td>0.078254</td>\n",
              "    </tr>\n",
              "    <tr>\n",
              "      <th>25%</th>\n",
              "      <td>0.437500</td>\n",
              "      <td>0.132500</td>\n",
              "      <td>0.272500</td>\n",
              "      <td>1.641500e+07</td>\n",
              "      <td>8.911250e+07</td>\n",
              "      <td>9.548000e+06</td>\n",
              "      <td>6.365000e+01</td>\n",
              "      <td>0.489618</td>\n",
              "      <td>0.110197</td>\n",
              "      <td>0.175220</td>\n",
              "    </tr>\n",
              "    <tr>\n",
              "      <th>50%</th>\n",
              "      <td>2.730000</td>\n",
              "      <td>0.730000</td>\n",
              "      <td>1.386000</td>\n",
              "      <td>6.039000e+07</td>\n",
              "      <td>3.157400e+08</td>\n",
              "      <td>2.247000e+07</td>\n",
              "      <td>5.330000e+02</td>\n",
              "      <td>0.565217</td>\n",
              "      <td>0.136761</td>\n",
              "      <td>0.290676</td>\n",
              "    </tr>\n",
              "    <tr>\n",
              "      <th>75%</th>\n",
              "      <td>48.224500</td>\n",
              "      <td>6.190000</td>\n",
              "      <td>8.817000</td>\n",
              "      <td>5.115950e+08</td>\n",
              "      <td>2.147500e+09</td>\n",
              "      <td>6.548500e+07</td>\n",
              "      <td>7.495000e+03</td>\n",
              "      <td>0.694443</td>\n",
              "      <td>0.157668</td>\n",
              "      <td>0.354284</td>\n",
              "    </tr>\n",
              "    <tr>\n",
              "      <th>max</th>\n",
              "      <td>2847.000000</td>\n",
              "      <td>1171.000000</td>\n",
              "      <td>564.000000</td>\n",
              "      <td>1.634000e+10</td>\n",
              "      <td>2.507000e+11</td>\n",
              "      <td>7.410000e+08</td>\n",
              "      <td>4.800000e+06</td>\n",
              "      <td>0.819318</td>\n",
              "      <td>0.289157</td>\n",
              "      <td>0.428928</td>\n",
              "    </tr>\n",
              "  </tbody>\n",
              "</table>\n",
              "</div>\n",
              "      <button class=\"colab-df-convert\" onclick=\"convertToInteractive('df-d90b9eb3-acf9-4b80-ad36-08e1a49bbb54')\"\n",
              "              title=\"Convert this dataframe to an interactive table.\"\n",
              "              style=\"display:none;\">\n",
              "        \n",
              "  <svg xmlns=\"http://www.w3.org/2000/svg\" height=\"24px\"viewBox=\"0 0 24 24\"\n",
              "       width=\"24px\">\n",
              "    <path d=\"M0 0h24v24H0V0z\" fill=\"none\"/>\n",
              "    <path d=\"M18.56 5.44l.94 2.06.94-2.06 2.06-.94-2.06-.94-.94-2.06-.94 2.06-2.06.94zm-11 1L8.5 8.5l.94-2.06 2.06-.94-2.06-.94L8.5 2.5l-.94 2.06-2.06.94zm10 10l.94 2.06.94-2.06 2.06-.94-2.06-.94-.94-2.06-.94 2.06-2.06.94z\"/><path d=\"M17.41 7.96l-1.37-1.37c-.4-.4-.92-.59-1.43-.59-.52 0-1.04.2-1.43.59L10.3 9.45l-7.72 7.72c-.78.78-.78 2.05 0 2.83L4 21.41c.39.39.9.59 1.41.59.51 0 1.02-.2 1.41-.59l7.78-7.78 2.81-2.81c.8-.78.8-2.07 0-2.86zM5.41 20L4 18.59l7.72-7.72 1.47 1.35L5.41 20z\"/>\n",
              "  </svg>\n",
              "      </button>\n",
              "      \n",
              "  <style>\n",
              "    .colab-df-container {\n",
              "      display:flex;\n",
              "      flex-wrap:wrap;\n",
              "      gap: 12px;\n",
              "    }\n",
              "\n",
              "    .colab-df-convert {\n",
              "      background-color: #E8F0FE;\n",
              "      border: none;\n",
              "      border-radius: 50%;\n",
              "      cursor: pointer;\n",
              "      display: none;\n",
              "      fill: #1967D2;\n",
              "      height: 32px;\n",
              "      padding: 0 0 0 0;\n",
              "      width: 32px;\n",
              "    }\n",
              "\n",
              "    .colab-df-convert:hover {\n",
              "      background-color: #E2EBFA;\n",
              "      box-shadow: 0px 1px 2px rgba(60, 64, 67, 0.3), 0px 1px 3px 1px rgba(60, 64, 67, 0.15);\n",
              "      fill: #174EA6;\n",
              "    }\n",
              "\n",
              "    [theme=dark] .colab-df-convert {\n",
              "      background-color: #3B4455;\n",
              "      fill: #D2E3FC;\n",
              "    }\n",
              "\n",
              "    [theme=dark] .colab-df-convert:hover {\n",
              "      background-color: #434B5C;\n",
              "      box-shadow: 0px 1px 3px 1px rgba(0, 0, 0, 0.15);\n",
              "      filter: drop-shadow(0px 1px 2px rgba(0, 0, 0, 0.3));\n",
              "      fill: #FFFFFF;\n",
              "    }\n",
              "  </style>\n",
              "\n",
              "      <script>\n",
              "        const buttonEl =\n",
              "          document.querySelector('#df-d90b9eb3-acf9-4b80-ad36-08e1a49bbb54 button.colab-df-convert');\n",
              "        buttonEl.style.display =\n",
              "          google.colab.kernel.accessAllowed ? 'block' : 'none';\n",
              "\n",
              "        async function convertToInteractive(key) {\n",
              "          const element = document.querySelector('#df-d90b9eb3-acf9-4b80-ad36-08e1a49bbb54');\n",
              "          const dataTable =\n",
              "            await google.colab.kernel.invokeFunction('convertToInteractive',\n",
              "                                                     [key], {});\n",
              "          if (!dataTable) return;\n",
              "\n",
              "          const docLinkHtml = 'Like what you see? Visit the ' +\n",
              "            '<a target=\"_blank\" href=https://colab.research.google.com/notebooks/data_table.ipynb>data table notebook</a>'\n",
              "            + ' to learn more about interactive tables.';\n",
              "          element.innerHTML = '';\n",
              "          dataTable['output_type'] = 'display_data';\n",
              "          await google.colab.output.renderOutput(dataTable, element);\n",
              "          const docLink = document.createElement('div');\n",
              "          docLink.innerHTML = docLinkHtml;\n",
              "          element.appendChild(docLink);\n",
              "        }\n",
              "      </script>\n",
              "    </div>\n",
              "  </div>\n",
              "  "
            ]
          },
          "metadata": {},
          "execution_count": 38
        }
      ]
    },
    {
      "cell_type": "code",
      "source": [
        "Breng.to_csv('/content/mammals with feature engi-1.csv')"
      ],
      "metadata": {
        "id": "XfZegFx6B3sj"
      },
      "execution_count": 34,
      "outputs": []
    },
    {
      "cell_type": "code",
      "source": [
        "X1 = Breng[[\"Forebr m\", \"Cer m\", \"rest m\", \"Body m\", \"Fmr %\", \"Cmr %\", \"rmr %\"]]\n",
        "Y1 = Breng[\"Forebr n\"]"
      ],
      "metadata": {
        "id": "ikCIuzll9E8b"
      },
      "execution_count": 39,
      "outputs": []
    },
    {
      "cell_type": "code",
      "source": [
        "x_train1, x_test1, y_train1, y_test1 = train_test_split(X1, Y1, test_size=0.25)"
      ],
      "metadata": {
        "id": "QC_0fz9I9fAs"
      },
      "execution_count": 40,
      "outputs": []
    },
    {
      "cell_type": "code",
      "source": [
        "GBR=GradientBoostingRegressor()\n",
        "GBR.fit(x_train1, y_train1)"
      ],
      "metadata": {
        "colab": {
          "base_uri": "https://localhost:8080/",
          "height": 75
        },
        "id": "yAcWSjW79qS7",
        "outputId": "53e052be-c146-4971-ad80-77ec1446d520"
      },
      "execution_count": 41,
      "outputs": [
        {
          "output_type": "execute_result",
          "data": {
            "text/plain": [
              "GradientBoostingRegressor()"
            ],
            "text/html": [
              "<style>#sk-container-id-3 {color: black;background-color: white;}#sk-container-id-3 pre{padding: 0;}#sk-container-id-3 div.sk-toggleable {background-color: white;}#sk-container-id-3 label.sk-toggleable__label {cursor: pointer;display: block;width: 100%;margin-bottom: 0;padding: 0.3em;box-sizing: border-box;text-align: center;}#sk-container-id-3 label.sk-toggleable__label-arrow:before {content: \"▸\";float: left;margin-right: 0.25em;color: #696969;}#sk-container-id-3 label.sk-toggleable__label-arrow:hover:before {color: black;}#sk-container-id-3 div.sk-estimator:hover label.sk-toggleable__label-arrow:before {color: black;}#sk-container-id-3 div.sk-toggleable__content {max-height: 0;max-width: 0;overflow: hidden;text-align: left;background-color: #f0f8ff;}#sk-container-id-3 div.sk-toggleable__content pre {margin: 0.2em;color: black;border-radius: 0.25em;background-color: #f0f8ff;}#sk-container-id-3 input.sk-toggleable__control:checked~div.sk-toggleable__content {max-height: 200px;max-width: 100%;overflow: auto;}#sk-container-id-3 input.sk-toggleable__control:checked~label.sk-toggleable__label-arrow:before {content: \"▾\";}#sk-container-id-3 div.sk-estimator input.sk-toggleable__control:checked~label.sk-toggleable__label {background-color: #d4ebff;}#sk-container-id-3 div.sk-label input.sk-toggleable__control:checked~label.sk-toggleable__label {background-color: #d4ebff;}#sk-container-id-3 input.sk-hidden--visually {border: 0;clip: rect(1px 1px 1px 1px);clip: rect(1px, 1px, 1px, 1px);height: 1px;margin: -1px;overflow: hidden;padding: 0;position: absolute;width: 1px;}#sk-container-id-3 div.sk-estimator {font-family: monospace;background-color: #f0f8ff;border: 1px dotted black;border-radius: 0.25em;box-sizing: border-box;margin-bottom: 0.5em;}#sk-container-id-3 div.sk-estimator:hover {background-color: #d4ebff;}#sk-container-id-3 div.sk-parallel-item::after {content: \"\";width: 100%;border-bottom: 1px solid gray;flex-grow: 1;}#sk-container-id-3 div.sk-label:hover label.sk-toggleable__label {background-color: #d4ebff;}#sk-container-id-3 div.sk-serial::before {content: \"\";position: absolute;border-left: 1px solid gray;box-sizing: border-box;top: 0;bottom: 0;left: 50%;z-index: 0;}#sk-container-id-3 div.sk-serial {display: flex;flex-direction: column;align-items: center;background-color: white;padding-right: 0.2em;padding-left: 0.2em;position: relative;}#sk-container-id-3 div.sk-item {position: relative;z-index: 1;}#sk-container-id-3 div.sk-parallel {display: flex;align-items: stretch;justify-content: center;background-color: white;position: relative;}#sk-container-id-3 div.sk-item::before, #sk-container-id-3 div.sk-parallel-item::before {content: \"\";position: absolute;border-left: 1px solid gray;box-sizing: border-box;top: 0;bottom: 0;left: 50%;z-index: -1;}#sk-container-id-3 div.sk-parallel-item {display: flex;flex-direction: column;z-index: 1;position: relative;background-color: white;}#sk-container-id-3 div.sk-parallel-item:first-child::after {align-self: flex-end;width: 50%;}#sk-container-id-3 div.sk-parallel-item:last-child::after {align-self: flex-start;width: 50%;}#sk-container-id-3 div.sk-parallel-item:only-child::after {width: 0;}#sk-container-id-3 div.sk-dashed-wrapped {border: 1px dashed gray;margin: 0 0.4em 0.5em 0.4em;box-sizing: border-box;padding-bottom: 0.4em;background-color: white;}#sk-container-id-3 div.sk-label label {font-family: monospace;font-weight: bold;display: inline-block;line-height: 1.2em;}#sk-container-id-3 div.sk-label-container {text-align: center;}#sk-container-id-3 div.sk-container {/* jupyter's `normalize.less` sets `[hidden] { display: none; }` but bootstrap.min.css set `[hidden] { display: none !important; }` so we also need the `!important` here to be able to override the default hidden behavior on the sphinx rendered scikit-learn.org. See: https://github.com/scikit-learn/scikit-learn/issues/21755 */display: inline-block !important;position: relative;}#sk-container-id-3 div.sk-text-repr-fallback {display: none;}</style><div id=\"sk-container-id-3\" class=\"sk-top-container\"><div class=\"sk-text-repr-fallback\"><pre>GradientBoostingRegressor()</pre><b>In a Jupyter environment, please rerun this cell to show the HTML representation or trust the notebook. <br />On GitHub, the HTML representation is unable to render, please try loading this page with nbviewer.org.</b></div><div class=\"sk-container\" hidden><div class=\"sk-item\"><div class=\"sk-estimator sk-toggleable\"><input class=\"sk-toggleable__control sk-hidden--visually\" id=\"sk-estimator-id-3\" type=\"checkbox\" checked><label for=\"sk-estimator-id-3\" class=\"sk-toggleable__label sk-toggleable__label-arrow\">GradientBoostingRegressor</label><div class=\"sk-toggleable__content\"><pre>GradientBoostingRegressor()</pre></div></div></div></div></div>"
            ]
          },
          "metadata": {},
          "execution_count": 41
        }
      ]
    },
    {
      "cell_type": "code",
      "source": [
        "mean_squared_error(y_test1, GBR.predict(x_test1))"
      ],
      "metadata": {
        "colab": {
          "base_uri": "https://localhost:8080/"
        },
        "id": "yYDcT0Yi-CWY",
        "outputId": "be3c343f-a814-4602-8ee7-d6360ce8733b"
      },
      "execution_count": 42,
      "outputs": [
        {
          "output_type": "execute_result",
          "data": {
            "text/plain": [
              "1.3513946759957707e+17"
            ]
          },
          "metadata": {},
          "execution_count": 42
        }
      ]
    },
    {
      "cell_type": "code",
      "source": [
        "r2_score(y_test1, GBR.predict(x_test1))"
      ],
      "metadata": {
        "colab": {
          "base_uri": "https://localhost:8080/"
        },
        "id": "81gzMOoj-QBF",
        "outputId": "b16554aa-51ca-4ea6-be50-c4e66b4edd50"
      },
      "execution_count": 43,
      "outputs": [
        {
          "output_type": "execute_result",
          "data": {
            "text/plain": [
              "0.5628037082294146"
            ]
          },
          "metadata": {},
          "execution_count": 43
        }
      ]
    },
    {
      "cell_type": "code",
      "source": [
        "fig = plt.figure(figsize=(8, 6))\n",
        "\n",
        "feature_imp = pd.Series(GBR.feature_importances_, index=['Forebr m', 'Cer m', 'rest m', 'Body m',\n",
        "                                                         'Fmr %', 'Cmr %', 'rmr %']).sort_values(ascending=False)\n",
        "\n",
        "sns.barplot(x=feature_imp, y=feature_imp.index)\n",
        "plt.xlabel('Feature Importance Score')\n",
        "plt.ylabel('Features')\n",
        "plt.title(\"Visualizing Important Features\", pad=15, size=14)\n",
        "plt.savefig('Barplot.png')"
      ],
      "metadata": {
        "colab": {
          "base_uri": "https://localhost:8080/",
          "height": 414
        },
        "id": "BHVYoPwC-aPQ",
        "outputId": "546d24a0-ca82-4719-ec3d-d5bb681f5ded"
      },
      "execution_count": 44,
      "outputs": [
        {
          "output_type": "display_data",
          "data": {
            "text/plain": [
              "<Figure size 576x432 with 1 Axes>"
            ],
            "image/png": "[encoded data removed]"
          },
          "metadata": {
            "needs_background": "light"
          }
        }
      ]
    },
    {
      "cell_type": "code",
      "source": [
        "# Human(included in data)\n",
        "GBR.predict([[1200, 150, 120, 70000, 0.818, 0.102, 0.079]])"
      ],
      "metadata": {
        "colab": {
          "base_uri": "https://localhost:8080/"
        },
        "id": "du1Qe8jN_Ib0",
        "outputId": "f55bf9ad-3bad-4051-ce61-e9c5347b63d2"
      },
      "execution_count": 45,
      "outputs": [
        {
          "output_type": "stream",
          "name": "stderr",
          "text": [
            "/usr/local/lib/python3.9/dist-packages/sklearn/base.py:439: UserWarning: X does not have valid feature names, but GradientBoostingRegressor was fitted with feature names\n",
            "  warnings.warn(\n"
          ]
        },
        {
          "output_type": "execute_result",
          "data": {
            "text/plain": [
              "array([1.63382454e+10])"
            ]
          },
          "metadata": {},
          "execution_count": 45
        }
      ]
    },
    {
      "cell_type": "code",
      "source": [
        "# Killer whale\n",
        "GBR.predict([[5270, 753, 192, 3987500, 0.847, 0.121, 0.03]])"
      ],
      "metadata": {
        "colab": {
          "base_uri": "https://localhost:8080/"
        },
        "id": "fvfKvZax_sdi",
        "outputId": "25fde8c3-551c-44dd-ead3-c98f3691ce0a"
      },
      "execution_count": 46,
      "outputs": [
        {
          "output_type": "stream",
          "name": "stderr",
          "text": [
            "/usr/local/lib/python3.9/dist-packages/sklearn/base.py:439: UserWarning: X does not have valid feature names, but GradientBoostingRegressor was fitted with feature names\n",
            "  warnings.warn(\n"
          ]
        },
        {
          "output_type": "execute_result",
          "data": {
            "text/plain": [
              "array([1.57704777e+10])"
            ]
          },
          "metadata": {},
          "execution_count": 46
        }
      ]
    },
    {
      "cell_type": "code",
      "source": [
        "# Orangutan\n",
        "GBR.predict([[414, 35, 40, 64475, 0.846, 0.071, 0.081]])"
      ],
      "metadata": {
        "colab": {
          "base_uri": "https://localhost:8080/"
        },
        "id": "0LOD-H4iAeYF",
        "outputId": "90d773f3-eb08-4ed7-dc5f-8c2ed66da428"
      },
      "execution_count": 47,
      "outputs": [
        {
          "output_type": "stream",
          "name": "stderr",
          "text": [
            "/usr/local/lib/python3.9/dist-packages/sklearn/base.py:439: UserWarning: X does not have valid feature names, but GradientBoostingRegressor was fitted with feature names\n",
            "  warnings.warn(\n"
          ]
        },
        {
          "output_type": "execute_result",
          "data": {
            "text/plain": [
              "array([1.51150358e+10])"
            ]
          },
          "metadata": {},
          "execution_count": 47
        }
      ]
    },
    {
      "cell_type": "code",
      "source": [
        "# Short-finned pilot whale\n",
        "GBR.predict([[2431, 403, 91, 2200000, 0.831, 0.137, 0.031]])"
      ],
      "metadata": {
        "colab": {
          "base_uri": "https://localhost:8080/"
        },
        "id": "Xe9EUiAZA7SM",
        "outputId": "ff78540c-5dcb-438f-a726-1cd383a33833"
      },
      "execution_count": 48,
      "outputs": [
        {
          "output_type": "stream",
          "name": "stderr",
          "text": [
            "/usr/local/lib/python3.9/dist-packages/sklearn/base.py:439: UserWarning: X does not have valid feature names, but GradientBoostingRegressor was fitted with feature names\n",
            "  warnings.warn(\n"
          ]
        },
        {
          "output_type": "execute_result",
          "data": {
            "text/plain": [
              "array([1.56447308e+10])"
            ]
          },
          "metadata": {},
          "execution_count": 48
        }
      ]
    },
    {
      "cell_type": "code",
      "source": [
        "# random\n",
        "GBR.predict([[20, 4, 6, 2200, 0.666, 0.133, 0.2]])"
      ],
      "metadata": {
        "colab": {
          "base_uri": "https://localhost:8080/"
        },
        "id": "1wgJ0zMGCyXV",
        "outputId": "20ffc2bc-a457-42e7-d18d-3c64139029b2"
      },
      "execution_count": 49,
      "outputs": [
        {
          "output_type": "stream",
          "name": "stderr",
          "text": [
            "/usr/local/lib/python3.9/dist-packages/sklearn/base.py:439: UserWarning: X does not have valid feature names, but GradientBoostingRegressor was fitted with feature names\n",
            "  warnings.warn(\n"
          ]
        },
        {
          "output_type": "execute_result",
          "data": {
            "text/plain": [
              "array([6.17542605e+08])"
            ]
          },
          "metadata": {},
          "execution_count": 49
        }
      ]
    }
  ]
}